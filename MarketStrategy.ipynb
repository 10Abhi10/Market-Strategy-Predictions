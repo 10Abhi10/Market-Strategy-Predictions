{
 "cells": [
  {
   "cell_type": "code",
   "execution_count": 1,
   "id": "6d4bb132",
   "metadata": {
    "_cell_guid": "b1076dfc-b9ad-4769-8c92-a6c4dae69d19",
    "_uuid": "8f2839f25d086af736a60e9eeb907d3b93b6e0e5",
    "execution": {
     "iopub.execute_input": "2022-10-06T22:33:55.440498Z",
     "iopub.status.busy": "2022-10-06T22:33:55.439455Z",
     "iopub.status.idle": "2022-10-06T22:33:55.455795Z",
     "shell.execute_reply": "2022-10-06T22:33:55.454629Z"
    },
    "papermill": {
     "duration": 0.038165,
     "end_time": "2022-10-06T22:33:55.458438",
     "exception": false,
     "start_time": "2022-10-06T22:33:55.420273",
     "status": "completed"
    },
    "tags": []
   },
   "outputs": [
    {
     "name": "stdout",
     "output_type": "stream",
     "text": [
      "/kaggle/input/marketing-strategy-personalised-offer/sample.csv\n",
      "/kaggle/input/marketing-strategy-personalised-offer/train_data.csv\n",
      "/kaggle/input/marketing-strategy-personalised-offer/test_data.csv\n"
     ]
    }
   ],
   "source": [
    "# This Python 3 environment comes with many helpful analytics libraries installed\n",
    "# It is defined by the kaggle/python Docker image: https://github.com/kaggle/docker-python\n",
    "# For example, here's several helpful packages to load\n",
    "\n",
    "import numpy as np # linear algebra\n",
    "import pandas as pd # data processing, CSV file I/O (e.g. pd.read_csv)\n",
    "\n",
    "# Input data files are available in the read-only \"../input/\" directory\n",
    "# For example, running this (by clicking run or pressing Shift+Enter) will list all files under the input directory\n",
    "\n",
    "import os\n",
    "for dirname, _, filenames in os.walk('/kaggle/input'):\n",
    "    for filename in filenames:\n",
    "        print(os.path.join(dirname, filename))\n",
    "\n",
    "# You can write up to 20GB to the current directory (/kaggle/working/) that gets preserved as output when you create a version using \"Save & Run All\" \n",
    "# You can also write temporary files to /kaggle/temp/, but they won't be saved outside of the current session"
   ]
  },
  {
   "cell_type": "code",
   "execution_count": 2,
   "id": "8696fbfe",
   "metadata": {
    "execution": {
     "iopub.execute_input": "2022-10-06T22:33:55.486176Z",
     "iopub.status.busy": "2022-10-06T22:33:55.485220Z",
     "iopub.status.idle": "2022-10-06T22:33:55.507939Z",
     "shell.execute_reply": "2022-10-06T22:33:55.506886Z"
    },
    "papermill": {
     "duration": 0.039766,
     "end_time": "2022-10-06T22:33:55.510365",
     "exception": false,
     "start_time": "2022-10-06T22:33:55.470599",
     "status": "completed"
    },
    "tags": []
   },
   "outputs": [],
   "source": [
    "sample = pd.read_csv('/kaggle/input/marketing-strategy-personalised-offer/sample.csv')"
   ]
  },
  {
   "cell_type": "code",
   "execution_count": 3,
   "id": "aac9a3b8",
   "metadata": {
    "execution": {
     "iopub.execute_input": "2022-10-06T22:33:55.537981Z",
     "iopub.status.busy": "2022-10-06T22:33:55.537567Z",
     "iopub.status.idle": "2022-10-06T22:33:55.546592Z",
     "shell.execute_reply": "2022-10-06T22:33:55.545231Z"
    },
    "papermill": {
     "duration": 0.02501,
     "end_time": "2022-10-06T22:33:55.549478",
     "exception": false,
     "start_time": "2022-10-06T22:33:55.524468",
     "status": "completed"
    },
    "tags": []
   },
   "outputs": [
    {
     "data": {
      "text/plain": [
       "(5305, 2)"
      ]
     },
     "execution_count": 3,
     "metadata": {},
     "output_type": "execute_result"
    }
   ],
   "source": [
    "sample.shape"
   ]
  },
  {
   "cell_type": "code",
   "execution_count": 4,
   "id": "dc392f3b",
   "metadata": {
    "execution": {
     "iopub.execute_input": "2022-10-06T22:33:55.575324Z",
     "iopub.status.busy": "2022-10-06T22:33:55.574939Z",
     "iopub.status.idle": "2022-10-06T22:33:55.596455Z",
     "shell.execute_reply": "2022-10-06T22:33:55.595436Z"
    },
    "papermill": {
     "duration": 0.036973,
     "end_time": "2022-10-06T22:33:55.598526",
     "exception": false,
     "start_time": "2022-10-06T22:33:55.561553",
     "status": "completed"
    },
    "tags": []
   },
   "outputs": [
    {
     "data": {
      "text/html": [
       "<div>\n",
       "<style scoped>\n",
       "    .dataframe tbody tr th:only-of-type {\n",
       "        vertical-align: middle;\n",
       "    }\n",
       "\n",
       "    .dataframe tbody tr th {\n",
       "        vertical-align: top;\n",
       "    }\n",
       "\n",
       "    .dataframe thead th {\n",
       "        text-align: right;\n",
       "    }\n",
       "</style>\n",
       "<table border=\"1\" class=\"dataframe\">\n",
       "  <thead>\n",
       "    <tr style=\"text-align: right;\">\n",
       "      <th></th>\n",
       "      <th>id</th>\n",
       "      <th>Offer Accepted</th>\n",
       "    </tr>\n",
       "  </thead>\n",
       "  <tbody>\n",
       "    <tr>\n",
       "      <th>0</th>\n",
       "      <td>0</td>\n",
       "      <td>No</td>\n",
       "    </tr>\n",
       "    <tr>\n",
       "      <th>1</th>\n",
       "      <td>1</td>\n",
       "      <td>No</td>\n",
       "    </tr>\n",
       "    <tr>\n",
       "      <th>2</th>\n",
       "      <td>2</td>\n",
       "      <td>No</td>\n",
       "    </tr>\n",
       "    <tr>\n",
       "      <th>3</th>\n",
       "      <td>3</td>\n",
       "      <td>No</td>\n",
       "    </tr>\n",
       "    <tr>\n",
       "      <th>4</th>\n",
       "      <td>4</td>\n",
       "      <td>No</td>\n",
       "    </tr>\n",
       "  </tbody>\n",
       "</table>\n",
       "</div>"
      ],
      "text/plain": [
       "   id Offer Accepted\n",
       "0   0             No\n",
       "1   1             No\n",
       "2   2             No\n",
       "3   3             No\n",
       "4   4             No"
      ]
     },
     "execution_count": 4,
     "metadata": {},
     "output_type": "execute_result"
    }
   ],
   "source": [
    "sample.head()"
   ]
  },
  {
   "cell_type": "code",
   "execution_count": 5,
   "id": "4f175a2c",
   "metadata": {
    "execution": {
     "iopub.execute_input": "2022-10-06T22:33:55.624823Z",
     "iopub.status.busy": "2022-10-06T22:33:55.624118Z",
     "iopub.status.idle": "2022-10-06T22:33:55.637713Z",
     "shell.execute_reply": "2022-10-06T22:33:55.636619Z"
    },
    "papermill": {
     "duration": 0.029421,
     "end_time": "2022-10-06T22:33:55.640013",
     "exception": false,
     "start_time": "2022-10-06T22:33:55.610592",
     "status": "completed"
    },
    "tags": []
   },
   "outputs": [
    {
     "data": {
      "text/plain": [
       "No    5305\n",
       "Name: Offer Accepted, dtype: int64"
      ]
     },
     "execution_count": 5,
     "metadata": {},
     "output_type": "execute_result"
    }
   ],
   "source": [
    "sample['Offer Accepted'].value_counts()"
   ]
  },
  {
   "cell_type": "code",
   "execution_count": 6,
   "id": "c82ae0c7",
   "metadata": {
    "execution": {
     "iopub.execute_input": "2022-10-06T22:33:55.666331Z",
     "iopub.status.busy": "2022-10-06T22:33:55.665932Z",
     "iopub.status.idle": "2022-10-06T22:33:55.818125Z",
     "shell.execute_reply": "2022-10-06T22:33:55.816846Z"
    },
    "papermill": {
     "duration": 0.169021,
     "end_time": "2022-10-06T22:33:55.821271",
     "exception": false,
     "start_time": "2022-10-06T22:33:55.652250",
     "status": "completed"
    },
    "tags": []
   },
   "outputs": [],
   "source": [
    "train_data = pd.read_csv('/kaggle/input/marketing-strategy-personalised-offer/train_data.csv')\n",
    "test_data = pd.read_csv('/kaggle/input/marketing-strategy-personalised-offer/test_data.csv')"
   ]
  },
  {
   "cell_type": "code",
   "execution_count": 7,
   "id": "1daa5a24",
   "metadata": {
    "execution": {
     "iopub.execute_input": "2022-10-06T22:33:55.849554Z",
     "iopub.status.busy": "2022-10-06T22:33:55.849133Z",
     "iopub.status.idle": "2022-10-06T22:33:55.855512Z",
     "shell.execute_reply": "2022-10-06T22:33:55.854158Z"
    },
    "papermill": {
     "duration": 0.023406,
     "end_time": "2022-10-06T22:33:55.857942",
     "exception": false,
     "start_time": "2022-10-06T22:33:55.834536",
     "status": "completed"
    },
    "tags": []
   },
   "outputs": [
    {
     "name": "stdout",
     "output_type": "stream",
     "text": [
      "Train data shape is (12379, 31) and Test data shape is (5305, 30)\n"
     ]
    }
   ],
   "source": [
    "print('Train data shape is {} and Test data shape is {}'.format(train_data.shape, test_data.shape))"
   ]
  },
  {
   "cell_type": "code",
   "execution_count": 8,
   "id": "3e4d5931",
   "metadata": {
    "execution": {
     "iopub.execute_input": "2022-10-06T22:33:55.885330Z",
     "iopub.status.busy": "2022-10-06T22:33:55.884954Z",
     "iopub.status.idle": "2022-10-06T22:33:55.891879Z",
     "shell.execute_reply": "2022-10-06T22:33:55.890743Z"
    },
    "papermill": {
     "duration": 0.023235,
     "end_time": "2022-10-06T22:33:55.894364",
     "exception": false,
     "start_time": "2022-10-06T22:33:55.871129",
     "status": "completed"
    },
    "tags": []
   },
   "outputs": [
    {
     "data": {
      "text/plain": [
       "Index(['offer expiration', 'income_range', 'no_visited_Cold drinks',\n",
       "       'travelled_more_than_15mins_for_offer', 'Restaur_spend_less_than20',\n",
       "       'Marital Status', 'restaurant type', 'age',\n",
       "       'Prefer western over chinese', 'travelled_more_than_25mins_for_offer',\n",
       "       'travelled_more_than_5mins_for_offer', 'no_visited_bars', 'gender',\n",
       "       'car', 'restuarant_same_direction_house', 'Cooks regularly',\n",
       "       'Customer type', 'Qualification', 'is foodie', 'no_Take-aways',\n",
       "       'Job/Job Industry', 'restuarant_opposite_direction_house',\n",
       "       'has Children', 'visit restaurant with rating (avg)', 'temperature',\n",
       "       'Restaur_spend_greater_than20', 'Travel Time', 'Climate',\n",
       "       'drop location', 'Prefer home food', 'Offer Accepted'],\n",
       "      dtype='object')"
      ]
     },
     "execution_count": 8,
     "metadata": {},
     "output_type": "execute_result"
    }
   ],
   "source": [
    "train_data.columns"
   ]
  },
  {
   "cell_type": "code",
   "execution_count": 9,
   "id": "78e4641f",
   "metadata": {
    "execution": {
     "iopub.execute_input": "2022-10-06T22:33:55.921750Z",
     "iopub.status.busy": "2022-10-06T22:33:55.921349Z",
     "iopub.status.idle": "2022-10-06T22:33:55.952503Z",
     "shell.execute_reply": "2022-10-06T22:33:55.951298Z"
    },
    "papermill": {
     "duration": 0.049416,
     "end_time": "2022-10-06T22:33:55.956659",
     "exception": false,
     "start_time": "2022-10-06T22:33:55.907243",
     "status": "completed"
    },
    "tags": []
   },
   "outputs": [
    {
     "name": "stdout",
     "output_type": "stream",
     "text": [
      "<class 'pandas.core.frame.DataFrame'>\n",
      "RangeIndex: 12379 entries, 0 to 12378\n",
      "Data columns (total 31 columns):\n",
      " #   Column                                Non-Null Count  Dtype \n",
      "---  ------                                --------------  ----- \n",
      " 0   offer expiration                      12379 non-null  object\n",
      " 1   income_range                          12379 non-null  object\n",
      " 2   no_visited_Cold drinks                12181 non-null  object\n",
      " 3   travelled_more_than_15mins_for_offer  12379 non-null  int64 \n",
      " 4   Restaur_spend_less_than20             12258 non-null  object\n",
      " 5   Marital Status                        12379 non-null  object\n",
      " 6   restaurant type                       12379 non-null  object\n",
      " 7   age                                   12379 non-null  object\n",
      " 8   Prefer western over chinese           12379 non-null  int64 \n",
      " 9   travelled_more_than_25mins_for_offer  12379 non-null  int64 \n",
      " 10  travelled_more_than_5mins_for_offer   12379 non-null  int64 \n",
      " 11  no_visited_bars                       12286 non-null  object\n",
      " 12  gender                                12379 non-null  object\n",
      " 13  car                                   111 non-null    object\n",
      " 14  restuarant_same_direction_house       12379 non-null  int64 \n",
      " 15  Cooks regularly                       12379 non-null  int64 \n",
      " 16  Customer type                         12379 non-null  object\n",
      " 17  Qualification                         12379 non-null  object\n",
      " 18  is foodie                             12379 non-null  int64 \n",
      " 19  no_Take-aways                         12235 non-null  object\n",
      " 20  Job/Job Industry                      12379 non-null  object\n",
      " 21  restuarant_opposite_direction_house   12379 non-null  int64 \n",
      " 22  has Children                          12379 non-null  int64 \n",
      " 23  visit restaurant with rating (avg)    12379 non-null  int64 \n",
      " 24  temperature                           12379 non-null  int64 \n",
      " 25  Restaur_spend_greater_than20          12219 non-null  object\n",
      " 26  Travel Time                           12379 non-null  int64 \n",
      " 27  Climate                               12379 non-null  object\n",
      " 28  drop location                         12379 non-null  object\n",
      " 29  Prefer home food                      12379 non-null  int64 \n",
      " 30  Offer Accepted                        12379 non-null  object\n",
      "dtypes: int64(13), object(18)\n",
      "memory usage: 2.9+ MB\n"
     ]
    }
   ],
   "source": [
    "train_data.info()"
   ]
  },
  {
   "cell_type": "markdown",
   "id": "8cb47ffb",
   "metadata": {
    "papermill": {
     "duration": 0.012247,
     "end_time": "2022-10-06T22:33:55.982336",
     "exception": false,
     "start_time": "2022-10-06T22:33:55.970089",
     "status": "completed"
    },
    "tags": []
   },
   "source": [
    "### Checking for the Missing Values"
   ]
  },
  {
   "cell_type": "code",
   "execution_count": 10,
   "id": "17cf5c4c",
   "metadata": {
    "execution": {
     "iopub.execute_input": "2022-10-06T22:33:56.010766Z",
     "iopub.status.busy": "2022-10-06T22:33:56.010387Z",
     "iopub.status.idle": "2022-10-06T22:33:56.028739Z",
     "shell.execute_reply": "2022-10-06T22:33:56.027802Z"
    },
    "papermill": {
     "duration": 0.036445,
     "end_time": "2022-10-06T22:33:56.031246",
     "exception": false,
     "start_time": "2022-10-06T22:33:55.994801",
     "status": "completed"
    },
    "tags": []
   },
   "outputs": [],
   "source": [
    "null_df = pd.DataFrame(train_data.isnull().sum(), columns = ['No. of Null Values'])\n",
    "null_df['% of null values'] = (null_df['No. of Null Values']/12379)*100"
   ]
  },
  {
   "cell_type": "code",
   "execution_count": 11,
   "id": "f8ec2ee7",
   "metadata": {
    "execution": {
     "iopub.execute_input": "2022-10-06T22:33:56.058310Z",
     "iopub.status.busy": "2022-10-06T22:33:56.057924Z",
     "iopub.status.idle": "2022-10-06T22:33:56.070201Z",
     "shell.execute_reply": "2022-10-06T22:33:56.069075Z"
    },
    "papermill": {
     "duration": 0.028562,
     "end_time": "2022-10-06T22:33:56.072674",
     "exception": false,
     "start_time": "2022-10-06T22:33:56.044112",
     "status": "completed"
    },
    "tags": []
   },
   "outputs": [
    {
     "data": {
      "text/html": [
       "<div>\n",
       "<style scoped>\n",
       "    .dataframe tbody tr th:only-of-type {\n",
       "        vertical-align: middle;\n",
       "    }\n",
       "\n",
       "    .dataframe tbody tr th {\n",
       "        vertical-align: top;\n",
       "    }\n",
       "\n",
       "    .dataframe thead th {\n",
       "        text-align: right;\n",
       "    }\n",
       "</style>\n",
       "<table border=\"1\" class=\"dataframe\">\n",
       "  <thead>\n",
       "    <tr style=\"text-align: right;\">\n",
       "      <th></th>\n",
       "      <th>No. of Null Values</th>\n",
       "      <th>% of null values</th>\n",
       "    </tr>\n",
       "  </thead>\n",
       "  <tbody>\n",
       "    <tr>\n",
       "      <th>offer expiration</th>\n",
       "      <td>0</td>\n",
       "      <td>0.000000</td>\n",
       "    </tr>\n",
       "    <tr>\n",
       "      <th>income_range</th>\n",
       "      <td>0</td>\n",
       "      <td>0.000000</td>\n",
       "    </tr>\n",
       "    <tr>\n",
       "      <th>no_visited_Cold drinks</th>\n",
       "      <td>198</td>\n",
       "      <td>1.599483</td>\n",
       "    </tr>\n",
       "    <tr>\n",
       "      <th>travelled_more_than_15mins_for_offer</th>\n",
       "      <td>0</td>\n",
       "      <td>0.000000</td>\n",
       "    </tr>\n",
       "    <tr>\n",
       "      <th>Restaur_spend_less_than20</th>\n",
       "      <td>121</td>\n",
       "      <td>0.977462</td>\n",
       "    </tr>\n",
       "    <tr>\n",
       "      <th>Marital Status</th>\n",
       "      <td>0</td>\n",
       "      <td>0.000000</td>\n",
       "    </tr>\n",
       "    <tr>\n",
       "      <th>restaurant type</th>\n",
       "      <td>0</td>\n",
       "      <td>0.000000</td>\n",
       "    </tr>\n",
       "    <tr>\n",
       "      <th>age</th>\n",
       "      <td>0</td>\n",
       "      <td>0.000000</td>\n",
       "    </tr>\n",
       "    <tr>\n",
       "      <th>Prefer western over chinese</th>\n",
       "      <td>0</td>\n",
       "      <td>0.000000</td>\n",
       "    </tr>\n",
       "    <tr>\n",
       "      <th>travelled_more_than_25mins_for_offer</th>\n",
       "      <td>0</td>\n",
       "      <td>0.000000</td>\n",
       "    </tr>\n",
       "    <tr>\n",
       "      <th>travelled_more_than_5mins_for_offer</th>\n",
       "      <td>0</td>\n",
       "      <td>0.000000</td>\n",
       "    </tr>\n",
       "    <tr>\n",
       "      <th>no_visited_bars</th>\n",
       "      <td>93</td>\n",
       "      <td>0.751272</td>\n",
       "    </tr>\n",
       "    <tr>\n",
       "      <th>gender</th>\n",
       "      <td>0</td>\n",
       "      <td>0.000000</td>\n",
       "    </tr>\n",
       "    <tr>\n",
       "      <th>car</th>\n",
       "      <td>12268</td>\n",
       "      <td>99.103320</td>\n",
       "    </tr>\n",
       "    <tr>\n",
       "      <th>restuarant_same_direction_house</th>\n",
       "      <td>0</td>\n",
       "      <td>0.000000</td>\n",
       "    </tr>\n",
       "    <tr>\n",
       "      <th>Cooks regularly</th>\n",
       "      <td>0</td>\n",
       "      <td>0.000000</td>\n",
       "    </tr>\n",
       "    <tr>\n",
       "      <th>Customer type</th>\n",
       "      <td>0</td>\n",
       "      <td>0.000000</td>\n",
       "    </tr>\n",
       "    <tr>\n",
       "      <th>Qualification</th>\n",
       "      <td>0</td>\n",
       "      <td>0.000000</td>\n",
       "    </tr>\n",
       "    <tr>\n",
       "      <th>is foodie</th>\n",
       "      <td>0</td>\n",
       "      <td>0.000000</td>\n",
       "    </tr>\n",
       "    <tr>\n",
       "      <th>no_Take-aways</th>\n",
       "      <td>144</td>\n",
       "      <td>1.163260</td>\n",
       "    </tr>\n",
       "    <tr>\n",
       "      <th>Job/Job Industry</th>\n",
       "      <td>0</td>\n",
       "      <td>0.000000</td>\n",
       "    </tr>\n",
       "    <tr>\n",
       "      <th>restuarant_opposite_direction_house</th>\n",
       "      <td>0</td>\n",
       "      <td>0.000000</td>\n",
       "    </tr>\n",
       "    <tr>\n",
       "      <th>has Children</th>\n",
       "      <td>0</td>\n",
       "      <td>0.000000</td>\n",
       "    </tr>\n",
       "    <tr>\n",
       "      <th>visit restaurant with rating (avg)</th>\n",
       "      <td>0</td>\n",
       "      <td>0.000000</td>\n",
       "    </tr>\n",
       "    <tr>\n",
       "      <th>temperature</th>\n",
       "      <td>0</td>\n",
       "      <td>0.000000</td>\n",
       "    </tr>\n",
       "    <tr>\n",
       "      <th>Restaur_spend_greater_than20</th>\n",
       "      <td>160</td>\n",
       "      <td>1.292512</td>\n",
       "    </tr>\n",
       "    <tr>\n",
       "      <th>Travel Time</th>\n",
       "      <td>0</td>\n",
       "      <td>0.000000</td>\n",
       "    </tr>\n",
       "    <tr>\n",
       "      <th>Climate</th>\n",
       "      <td>0</td>\n",
       "      <td>0.000000</td>\n",
       "    </tr>\n",
       "    <tr>\n",
       "      <th>drop location</th>\n",
       "      <td>0</td>\n",
       "      <td>0.000000</td>\n",
       "    </tr>\n",
       "    <tr>\n",
       "      <th>Prefer home food</th>\n",
       "      <td>0</td>\n",
       "      <td>0.000000</td>\n",
       "    </tr>\n",
       "    <tr>\n",
       "      <th>Offer Accepted</th>\n",
       "      <td>0</td>\n",
       "      <td>0.000000</td>\n",
       "    </tr>\n",
       "  </tbody>\n",
       "</table>\n",
       "</div>"
      ],
      "text/plain": [
       "                                      No. of Null Values  % of null values\n",
       "offer expiration                                       0          0.000000\n",
       "income_range                                           0          0.000000\n",
       "no_visited_Cold drinks                               198          1.599483\n",
       "travelled_more_than_15mins_for_offer                   0          0.000000\n",
       "Restaur_spend_less_than20                            121          0.977462\n",
       "Marital Status                                         0          0.000000\n",
       "restaurant type                                        0          0.000000\n",
       "age                                                    0          0.000000\n",
       "Prefer western over chinese                            0          0.000000\n",
       "travelled_more_than_25mins_for_offer                   0          0.000000\n",
       "travelled_more_than_5mins_for_offer                    0          0.000000\n",
       "no_visited_bars                                       93          0.751272\n",
       "gender                                                 0          0.000000\n",
       "car                                                12268         99.103320\n",
       "restuarant_same_direction_house                        0          0.000000\n",
       "Cooks regularly                                        0          0.000000\n",
       "Customer type                                          0          0.000000\n",
       "Qualification                                          0          0.000000\n",
       "is foodie                                              0          0.000000\n",
       "no_Take-aways                                        144          1.163260\n",
       "Job/Job Industry                                       0          0.000000\n",
       "restuarant_opposite_direction_house                    0          0.000000\n",
       "has Children                                           0          0.000000\n",
       "visit restaurant with rating (avg)                     0          0.000000\n",
       "temperature                                            0          0.000000\n",
       "Restaur_spend_greater_than20                         160          1.292512\n",
       "Travel Time                                            0          0.000000\n",
       "Climate                                                0          0.000000\n",
       "drop location                                          0          0.000000\n",
       "Prefer home food                                       0          0.000000\n",
       "Offer Accepted                                         0          0.000000"
      ]
     },
     "execution_count": 11,
     "metadata": {},
     "output_type": "execute_result"
    }
   ],
   "source": [
    "null_df"
   ]
  },
  {
   "cell_type": "code",
   "execution_count": 12,
   "id": "7b2532b5",
   "metadata": {
    "execution": {
     "iopub.execute_input": "2022-10-06T22:33:56.100651Z",
     "iopub.status.busy": "2022-10-06T22:33:56.099653Z",
     "iopub.status.idle": "2022-10-06T22:33:56.113093Z",
     "shell.execute_reply": "2022-10-06T22:33:56.111889Z"
    },
    "papermill": {
     "duration": 0.029854,
     "end_time": "2022-10-06T22:33:56.115479",
     "exception": false,
     "start_time": "2022-10-06T22:33:56.085625",
     "status": "completed"
    },
    "tags": []
   },
   "outputs": [],
   "source": [
    "null_df_test = pd.DataFrame(test_data.isnull().sum(), columns = ['No. of Null Values'])\n",
    "null_df_test['% of null values'] = (null_df_test['No. of Null Values']/5305)*100"
   ]
  },
  {
   "cell_type": "code",
   "execution_count": 13,
   "id": "f6822f50",
   "metadata": {
    "execution": {
     "iopub.execute_input": "2022-10-06T22:33:56.142941Z",
     "iopub.status.busy": "2022-10-06T22:33:56.142489Z",
     "iopub.status.idle": "2022-10-06T22:33:56.155676Z",
     "shell.execute_reply": "2022-10-06T22:33:56.154329Z"
    },
    "papermill": {
     "duration": 0.029651,
     "end_time": "2022-10-06T22:33:56.157954",
     "exception": false,
     "start_time": "2022-10-06T22:33:56.128303",
     "status": "completed"
    },
    "tags": []
   },
   "outputs": [
    {
     "data": {
      "text/html": [
       "<div>\n",
       "<style scoped>\n",
       "    .dataframe tbody tr th:only-of-type {\n",
       "        vertical-align: middle;\n",
       "    }\n",
       "\n",
       "    .dataframe tbody tr th {\n",
       "        vertical-align: top;\n",
       "    }\n",
       "\n",
       "    .dataframe thead th {\n",
       "        text-align: right;\n",
       "    }\n",
       "</style>\n",
       "<table border=\"1\" class=\"dataframe\">\n",
       "  <thead>\n",
       "    <tr style=\"text-align: right;\">\n",
       "      <th></th>\n",
       "      <th>No. of Null Values</th>\n",
       "      <th>% of null values</th>\n",
       "    </tr>\n",
       "  </thead>\n",
       "  <tbody>\n",
       "    <tr>\n",
       "      <th>offer expiration</th>\n",
       "      <td>0</td>\n",
       "      <td>0.000000</td>\n",
       "    </tr>\n",
       "    <tr>\n",
       "      <th>income_range</th>\n",
       "      <td>0</td>\n",
       "      <td>0.000000</td>\n",
       "    </tr>\n",
       "    <tr>\n",
       "      <th>no_visited_Cold drinks</th>\n",
       "      <td>90</td>\n",
       "      <td>1.696513</td>\n",
       "    </tr>\n",
       "    <tr>\n",
       "      <th>travelled_more_than_15mins_for_offer</th>\n",
       "      <td>0</td>\n",
       "      <td>0.000000</td>\n",
       "    </tr>\n",
       "    <tr>\n",
       "      <th>Restaur_spend_less_than20</th>\n",
       "      <td>61</td>\n",
       "      <td>1.149859</td>\n",
       "    </tr>\n",
       "    <tr>\n",
       "      <th>Marital Status</th>\n",
       "      <td>0</td>\n",
       "      <td>0.000000</td>\n",
       "    </tr>\n",
       "    <tr>\n",
       "      <th>restaurant type</th>\n",
       "      <td>0</td>\n",
       "      <td>0.000000</td>\n",
       "    </tr>\n",
       "    <tr>\n",
       "      <th>age</th>\n",
       "      <td>0</td>\n",
       "      <td>0.000000</td>\n",
       "    </tr>\n",
       "    <tr>\n",
       "      <th>Prefer western over chinese</th>\n",
       "      <td>0</td>\n",
       "      <td>0.000000</td>\n",
       "    </tr>\n",
       "    <tr>\n",
       "      <th>travelled_more_than_25mins_for_offer</th>\n",
       "      <td>0</td>\n",
       "      <td>0.000000</td>\n",
       "    </tr>\n",
       "    <tr>\n",
       "      <th>travelled_more_than_5mins_for_offer</th>\n",
       "      <td>0</td>\n",
       "      <td>0.000000</td>\n",
       "    </tr>\n",
       "    <tr>\n",
       "      <th>no_visited_bars</th>\n",
       "      <td>50</td>\n",
       "      <td>0.942507</td>\n",
       "    </tr>\n",
       "    <tr>\n",
       "      <th>gender</th>\n",
       "      <td>0</td>\n",
       "      <td>0.000000</td>\n",
       "    </tr>\n",
       "    <tr>\n",
       "      <th>car</th>\n",
       "      <td>5262</td>\n",
       "      <td>99.189444</td>\n",
       "    </tr>\n",
       "    <tr>\n",
       "      <th>restuarant_same_direction_house</th>\n",
       "      <td>0</td>\n",
       "      <td>0.000000</td>\n",
       "    </tr>\n",
       "    <tr>\n",
       "      <th>Cooks regularly</th>\n",
       "      <td>0</td>\n",
       "      <td>0.000000</td>\n",
       "    </tr>\n",
       "    <tr>\n",
       "      <th>Customer type</th>\n",
       "      <td>0</td>\n",
       "      <td>0.000000</td>\n",
       "    </tr>\n",
       "    <tr>\n",
       "      <th>Qualification</th>\n",
       "      <td>0</td>\n",
       "      <td>0.000000</td>\n",
       "    </tr>\n",
       "    <tr>\n",
       "      <th>is foodie</th>\n",
       "      <td>0</td>\n",
       "      <td>0.000000</td>\n",
       "    </tr>\n",
       "    <tr>\n",
       "      <th>no_Take-aways</th>\n",
       "      <td>60</td>\n",
       "      <td>1.131008</td>\n",
       "    </tr>\n",
       "    <tr>\n",
       "      <th>Job/Job Industry</th>\n",
       "      <td>0</td>\n",
       "      <td>0.000000</td>\n",
       "    </tr>\n",
       "    <tr>\n",
       "      <th>restuarant_opposite_direction_house</th>\n",
       "      <td>0</td>\n",
       "      <td>0.000000</td>\n",
       "    </tr>\n",
       "    <tr>\n",
       "      <th>has Children</th>\n",
       "      <td>0</td>\n",
       "      <td>0.000000</td>\n",
       "    </tr>\n",
       "    <tr>\n",
       "      <th>visit restaurant with rating (avg)</th>\n",
       "      <td>0</td>\n",
       "      <td>0.000000</td>\n",
       "    </tr>\n",
       "    <tr>\n",
       "      <th>temperature</th>\n",
       "      <td>0</td>\n",
       "      <td>0.000000</td>\n",
       "    </tr>\n",
       "    <tr>\n",
       "      <th>Restaur_spend_greater_than20</th>\n",
       "      <td>104</td>\n",
       "      <td>1.960415</td>\n",
       "    </tr>\n",
       "    <tr>\n",
       "      <th>Travel Time</th>\n",
       "      <td>0</td>\n",
       "      <td>0.000000</td>\n",
       "    </tr>\n",
       "    <tr>\n",
       "      <th>Climate</th>\n",
       "      <td>0</td>\n",
       "      <td>0.000000</td>\n",
       "    </tr>\n",
       "    <tr>\n",
       "      <th>drop location</th>\n",
       "      <td>0</td>\n",
       "      <td>0.000000</td>\n",
       "    </tr>\n",
       "    <tr>\n",
       "      <th>Prefer home food</th>\n",
       "      <td>0</td>\n",
       "      <td>0.000000</td>\n",
       "    </tr>\n",
       "  </tbody>\n",
       "</table>\n",
       "</div>"
      ],
      "text/plain": [
       "                                      No. of Null Values  % of null values\n",
       "offer expiration                                       0          0.000000\n",
       "income_range                                           0          0.000000\n",
       "no_visited_Cold drinks                                90          1.696513\n",
       "travelled_more_than_15mins_for_offer                   0          0.000000\n",
       "Restaur_spend_less_than20                             61          1.149859\n",
       "Marital Status                                         0          0.000000\n",
       "restaurant type                                        0          0.000000\n",
       "age                                                    0          0.000000\n",
       "Prefer western over chinese                            0          0.000000\n",
       "travelled_more_than_25mins_for_offer                   0          0.000000\n",
       "travelled_more_than_5mins_for_offer                    0          0.000000\n",
       "no_visited_bars                                       50          0.942507\n",
       "gender                                                 0          0.000000\n",
       "car                                                 5262         99.189444\n",
       "restuarant_same_direction_house                        0          0.000000\n",
       "Cooks regularly                                        0          0.000000\n",
       "Customer type                                          0          0.000000\n",
       "Qualification                                          0          0.000000\n",
       "is foodie                                              0          0.000000\n",
       "no_Take-aways                                         60          1.131008\n",
       "Job/Job Industry                                       0          0.000000\n",
       "restuarant_opposite_direction_house                    0          0.000000\n",
       "has Children                                           0          0.000000\n",
       "visit restaurant with rating (avg)                     0          0.000000\n",
       "temperature                                            0          0.000000\n",
       "Restaur_spend_greater_than20                         104          1.960415\n",
       "Travel Time                                            0          0.000000\n",
       "Climate                                                0          0.000000\n",
       "drop location                                          0          0.000000\n",
       "Prefer home food                                       0          0.000000"
      ]
     },
     "execution_count": 13,
     "metadata": {},
     "output_type": "execute_result"
    }
   ],
   "source": [
    "null_df_test"
   ]
  },
  {
   "cell_type": "markdown",
   "id": "2fc3e258",
   "metadata": {
    "papermill": {
     "duration": 0.012776,
     "end_time": "2022-10-06T22:33:56.183915",
     "exception": false,
     "start_time": "2022-10-06T22:33:56.171139",
     "status": "completed"
    },
    "tags": []
   },
   "source": [
    "### Treating the columns with missing values"
   ]
  },
  {
   "cell_type": "code",
   "execution_count": 14,
   "id": "cbd48207",
   "metadata": {
    "execution": {
     "iopub.execute_input": "2022-10-06T22:33:56.212421Z",
     "iopub.status.busy": "2022-10-06T22:33:56.211649Z",
     "iopub.status.idle": "2022-10-06T22:33:56.220391Z",
     "shell.execute_reply": "2022-10-06T22:33:56.219186Z"
    },
    "papermill": {
     "duration": 0.025558,
     "end_time": "2022-10-06T22:33:56.222897",
     "exception": false,
     "start_time": "2022-10-06T22:33:56.197339",
     "status": "completed"
    },
    "tags": []
   },
   "outputs": [],
   "source": [
    "def handle_missing_data(data):\n",
    "    data['no_visited_Cold drinks'].fillna(data['no_visited_Cold drinks'].mode()[0], inplace=True)\n",
    "    data['Restaur_spend_less_than20'].fillna(data['Restaur_spend_less_than20'].mode()[0], inplace=True)\n",
    "    data['no_visited_bars'].fillna(data['no_visited_bars'].mode()[0], inplace=True)\n",
    "    data['no_Take-aways'].fillna(data['no_Take-aways'].mode()[0], inplace=True)\n",
    "    data['Restaur_spend_greater_than20'].fillna(data['Restaur_spend_greater_than20'].mode()[0], inplace=True)\n",
    "    \n",
    "    return data"
   ]
  },
  {
   "cell_type": "code",
   "execution_count": 15,
   "id": "acd3a4db",
   "metadata": {
    "execution": {
     "iopub.execute_input": "2022-10-06T22:33:56.250871Z",
     "iopub.status.busy": "2022-10-06T22:33:56.250458Z",
     "iopub.status.idle": "2022-10-06T22:33:56.270804Z",
     "shell.execute_reply": "2022-10-06T22:33:56.269645Z"
    },
    "papermill": {
     "duration": 0.037425,
     "end_time": "2022-10-06T22:33:56.273459",
     "exception": false,
     "start_time": "2022-10-06T22:33:56.236034",
     "status": "completed"
    },
    "tags": []
   },
   "outputs": [],
   "source": [
    "train_data = handle_missing_data(train_data)\n",
    "test_data = handle_missing_data(test_data)"
   ]
  },
  {
   "cell_type": "code",
   "execution_count": 16,
   "id": "7e8d3845",
   "metadata": {
    "execution": {
     "iopub.execute_input": "2022-10-06T22:33:56.302518Z",
     "iopub.status.busy": "2022-10-06T22:33:56.302143Z",
     "iopub.status.idle": "2022-10-06T22:33:56.321059Z",
     "shell.execute_reply": "2022-10-06T22:33:56.320016Z"
    },
    "papermill": {
     "duration": 0.035917,
     "end_time": "2022-10-06T22:33:56.323530",
     "exception": false,
     "start_time": "2022-10-06T22:33:56.287613",
     "status": "completed"
    },
    "tags": []
   },
   "outputs": [
    {
     "data": {
      "text/plain": [
       "offer expiration                            0\n",
       "income_range                                0\n",
       "no_visited_Cold drinks                      0\n",
       "travelled_more_than_15mins_for_offer        0\n",
       "Restaur_spend_less_than20                   0\n",
       "Marital Status                              0\n",
       "restaurant type                             0\n",
       "age                                         0\n",
       "Prefer western over chinese                 0\n",
       "travelled_more_than_25mins_for_offer        0\n",
       "travelled_more_than_5mins_for_offer         0\n",
       "no_visited_bars                             0\n",
       "gender                                      0\n",
       "car                                     12268\n",
       "restuarant_same_direction_house             0\n",
       "Cooks regularly                             0\n",
       "Customer type                               0\n",
       "Qualification                               0\n",
       "is foodie                                   0\n",
       "no_Take-aways                               0\n",
       "Job/Job Industry                            0\n",
       "restuarant_opposite_direction_house         0\n",
       "has Children                                0\n",
       "visit restaurant with rating (avg)          0\n",
       "temperature                                 0\n",
       "Restaur_spend_greater_than20                0\n",
       "Travel Time                                 0\n",
       "Climate                                     0\n",
       "drop location                               0\n",
       "Prefer home food                            0\n",
       "Offer Accepted                              0\n",
       "dtype: int64"
      ]
     },
     "execution_count": 16,
     "metadata": {},
     "output_type": "execute_result"
    }
   ],
   "source": [
    "train_data.isnull().sum()"
   ]
  },
  {
   "cell_type": "code",
   "execution_count": 17,
   "id": "2d5cc33f",
   "metadata": {
    "execution": {
     "iopub.execute_input": "2022-10-06T22:33:56.351971Z",
     "iopub.status.busy": "2022-10-06T22:33:56.351221Z",
     "iopub.status.idle": "2022-10-06T22:33:56.365704Z",
     "shell.execute_reply": "2022-10-06T22:33:56.364485Z"
    },
    "papermill": {
     "duration": 0.031165,
     "end_time": "2022-10-06T22:33:56.367959",
     "exception": false,
     "start_time": "2022-10-06T22:33:56.336794",
     "status": "completed"
    },
    "tags": []
   },
   "outputs": [
    {
     "data": {
      "text/plain": [
       "offer expiration                           0\n",
       "income_range                               0\n",
       "no_visited_Cold drinks                     0\n",
       "travelled_more_than_15mins_for_offer       0\n",
       "Restaur_spend_less_than20                  0\n",
       "Marital Status                             0\n",
       "restaurant type                            0\n",
       "age                                        0\n",
       "Prefer western over chinese                0\n",
       "travelled_more_than_25mins_for_offer       0\n",
       "travelled_more_than_5mins_for_offer        0\n",
       "no_visited_bars                            0\n",
       "gender                                     0\n",
       "car                                     5262\n",
       "restuarant_same_direction_house            0\n",
       "Cooks regularly                            0\n",
       "Customer type                              0\n",
       "Qualification                              0\n",
       "is foodie                                  0\n",
       "no_Take-aways                              0\n",
       "Job/Job Industry                           0\n",
       "restuarant_opposite_direction_house        0\n",
       "has Children                               0\n",
       "visit restaurant with rating (avg)         0\n",
       "temperature                                0\n",
       "Restaur_spend_greater_than20               0\n",
       "Travel Time                                0\n",
       "Climate                                    0\n",
       "drop location                              0\n",
       "Prefer home food                           0\n",
       "dtype: int64"
      ]
     },
     "execution_count": 17,
     "metadata": {},
     "output_type": "execute_result"
    }
   ],
   "source": [
    "test_data.isnull().sum()"
   ]
  },
  {
   "cell_type": "markdown",
   "id": "e5486ade",
   "metadata": {
    "papermill": {
     "duration": 0.012958,
     "end_time": "2022-10-06T22:33:56.394243",
     "exception": false,
     "start_time": "2022-10-06T22:33:56.381285",
     "status": "completed"
    },
    "tags": []
   },
   "source": [
    "#### Encoding the ordinal features"
   ]
  },
  {
   "cell_type": "code",
   "execution_count": 18,
   "id": "7ad66b1a",
   "metadata": {
    "execution": {
     "iopub.execute_input": "2022-10-06T22:33:56.422350Z",
     "iopub.status.busy": "2022-10-06T22:33:56.421976Z",
     "iopub.status.idle": "2022-10-06T22:33:56.429017Z",
     "shell.execute_reply": "2022-10-06T22:33:56.427964Z"
    },
    "papermill": {
     "duration": 0.023804,
     "end_time": "2022-10-06T22:33:56.431310",
     "exception": false,
     "start_time": "2022-10-06T22:33:56.407506",
     "status": "completed"
    },
    "tags": []
   },
   "outputs": [
    {
     "data": {
      "text/plain": [
       "Index(['offer expiration', 'income_range', 'no_visited_Cold drinks',\n",
       "       'travelled_more_than_15mins_for_offer', 'Restaur_spend_less_than20',\n",
       "       'Marital Status', 'restaurant type', 'age',\n",
       "       'Prefer western over chinese', 'travelled_more_than_25mins_for_offer',\n",
       "       'travelled_more_than_5mins_for_offer', 'no_visited_bars', 'gender',\n",
       "       'car', 'restuarant_same_direction_house', 'Cooks regularly',\n",
       "       'Customer type', 'Qualification', 'is foodie', 'no_Take-aways',\n",
       "       'Job/Job Industry', 'restuarant_opposite_direction_house',\n",
       "       'has Children', 'visit restaurant with rating (avg)', 'temperature',\n",
       "       'Restaur_spend_greater_than20', 'Travel Time', 'Climate',\n",
       "       'drop location', 'Prefer home food', 'Offer Accepted'],\n",
       "      dtype='object')"
      ]
     },
     "execution_count": 18,
     "metadata": {},
     "output_type": "execute_result"
    }
   ],
   "source": [
    "train_data.columns"
   ]
  },
  {
   "cell_type": "code",
   "execution_count": 19,
   "id": "58871e1e",
   "metadata": {
    "execution": {
     "iopub.execute_input": "2022-10-06T22:33:56.460457Z",
     "iopub.status.busy": "2022-10-06T22:33:56.460069Z",
     "iopub.status.idle": "2022-10-06T22:33:56.465509Z",
     "shell.execute_reply": "2022-10-06T22:33:56.464410Z"
    },
    "papermill": {
     "duration": 0.022529,
     "end_time": "2022-10-06T22:33:56.467788",
     "exception": false,
     "start_time": "2022-10-06T22:33:56.445259",
     "status": "completed"
    },
    "tags": []
   },
   "outputs": [],
   "source": [
    "ord_features = ['offer expiration', 'income_range', 'no_visited_Cold drinks', 'Restaur_spend_less_than20', 'age', 'no_visited_bars',\n",
    "                'Qualification','no_Take-aways','Restaur_spend_greater_than20']\n",
    "nom_features = ['Marital Status', 'restaurant type', 'Customer type','Job/Job Industry', 'Climate', 'drop location']"
   ]
  },
  {
   "cell_type": "code",
   "execution_count": 20,
   "id": "6f01719c",
   "metadata": {
    "execution": {
     "iopub.execute_input": "2022-10-06T22:33:56.497653Z",
     "iopub.status.busy": "2022-10-06T22:33:56.496651Z",
     "iopub.status.idle": "2022-10-06T22:33:56.510542Z",
     "shell.execute_reply": "2022-10-06T22:33:56.509442Z"
    },
    "papermill": {
     "duration": 0.031619,
     "end_time": "2022-10-06T22:33:56.513099",
     "exception": false,
     "start_time": "2022-10-06T22:33:56.481480",
     "status": "completed"
    },
    "tags": []
   },
   "outputs": [],
   "source": [
    "def data_preprocessing(data):\n",
    "    data.drop(['car','travelled_more_than_5mins_for_offer'], axis = 1, inplace = True)\n",
    "    data['offer expiration'].replace(['10hours','2days'], [10,48], inplace = True)\n",
    "    data['income_range'].replace(['Less than ₹12500', '₹12500 - ₹24999',\n",
    "                                  '₹25000 - ₹37499','₹37500 - ₹49999', '₹50000 - ₹62499',\n",
    "                                  '₹62500 - ₹74999', '₹75000 - ₹87499', '₹87500 - ₹99999', '₹100000 or More'], [0,1,2,3,4,5,6,7,8], inplace = True)\n",
    "    data['no_visited_Cold drinks'].replace(['never', 'less1','1~3', '4~8', 'gt8'], [0,1,2,3,4], inplace = True)\n",
    "    data['Restaur_spend_less_than20'].replace(['never', 'less1','1~3', '4~8', 'gt8'], [0,1,2,3,4], inplace = True)\n",
    "    data['age'].replace(['below21','21', '26', '31', '36', '41', '46', '50plus'], [0,1,2,3,4,5,6,7], inplace = True)\n",
    "    data['no_visited_bars'].replace(['never', 'less1','1~3', '4~8', 'gt8'], [0,1,2,3,4], inplace = True)\n",
    "    data['gender'].replace(['Female','Male'], [0,1], inplace = True)\n",
    "    data['Qualification'].replace(['Some High School','High School Graduate','Some college - no degree','Associates degree', \n",
    "                                   'Bachelors degree','Graduate degree (Masters or Doctorate)'], [0,1,2,3,4,5], inplace = True)\n",
    "    data['no_Take-aways'].replace(['never', 'less1','1~3', '4~8', 'gt8'], [0,1,2,3,4], inplace = True)\n",
    "    data['Restaur_spend_greater_than20'].replace(['never', 'less1','1~3', '4~8', 'gt8'], [0,1,2,3,4], inplace = True)\n",
    "    \n",
    "    new_data = pd.get_dummies(data, columns = nom_features)\n",
    "    \n",
    "    return new_data \n",
    "    "
   ]
  },
  {
   "cell_type": "code",
   "execution_count": 21,
   "id": "fc6e27b9",
   "metadata": {
    "execution": {
     "iopub.execute_input": "2022-10-06T22:33:56.542402Z",
     "iopub.status.busy": "2022-10-06T22:33:56.541721Z",
     "iopub.status.idle": "2022-10-06T22:33:56.647948Z",
     "shell.execute_reply": "2022-10-06T22:33:56.646962Z"
    },
    "papermill": {
     "duration": 0.123547,
     "end_time": "2022-10-06T22:33:56.650522",
     "exception": false,
     "start_time": "2022-10-06T22:33:56.526975",
     "status": "completed"
    },
    "tags": []
   },
   "outputs": [],
   "source": [
    "train_data = data_preprocessing(train_data)"
   ]
  },
  {
   "cell_type": "code",
   "execution_count": 22,
   "id": "89140afe",
   "metadata": {
    "execution": {
     "iopub.execute_input": "2022-10-06T22:33:56.679324Z",
     "iopub.status.busy": "2022-10-06T22:33:56.678940Z",
     "iopub.status.idle": "2022-10-06T22:33:56.736349Z",
     "shell.execute_reply": "2022-10-06T22:33:56.735456Z"
    },
    "papermill": {
     "duration": 0.074867,
     "end_time": "2022-10-06T22:33:56.739099",
     "exception": false,
     "start_time": "2022-10-06T22:33:56.664232",
     "status": "completed"
    },
    "tags": []
   },
   "outputs": [],
   "source": [
    "test_data = data_preprocessing(test_data)"
   ]
  },
  {
   "cell_type": "markdown",
   "id": "df0d94bb",
   "metadata": {
    "papermill": {
     "duration": 0.013128,
     "end_time": "2022-10-06T22:33:56.765786",
     "exception": false,
     "start_time": "2022-10-06T22:33:56.752658",
     "status": "completed"
    },
    "tags": []
   },
   "source": [
    "#### Checking whether the data is skewed towards a specific label"
   ]
  },
  {
   "cell_type": "code",
   "execution_count": 23,
   "id": "2b222559",
   "metadata": {
    "execution": {
     "iopub.execute_input": "2022-10-06T22:33:56.794484Z",
     "iopub.status.busy": "2022-10-06T22:33:56.794097Z",
     "iopub.status.idle": "2022-10-06T22:33:56.803276Z",
     "shell.execute_reply": "2022-10-06T22:33:56.802216Z"
    },
    "papermill": {
     "duration": 0.026141,
     "end_time": "2022-10-06T22:33:56.805481",
     "exception": false,
     "start_time": "2022-10-06T22:33:56.779340",
     "status": "completed"
    },
    "tags": []
   },
   "outputs": [
    {
     "data": {
      "text/plain": [
       "Yes    6994\n",
       "No     5385\n",
       "Name: Offer Accepted, dtype: int64"
      ]
     },
     "execution_count": 23,
     "metadata": {},
     "output_type": "execute_result"
    }
   ],
   "source": [
    "train_data['Offer Accepted'].value_counts()"
   ]
  },
  {
   "cell_type": "code",
   "execution_count": 24,
   "id": "213e9fa3",
   "metadata": {
    "execution": {
     "iopub.execute_input": "2022-10-06T22:33:56.834592Z",
     "iopub.status.busy": "2022-10-06T22:33:56.834191Z",
     "iopub.status.idle": "2022-10-06T22:33:56.852908Z",
     "shell.execute_reply": "2022-10-06T22:33:56.851872Z"
    },
    "papermill": {
     "duration": 0.035966,
     "end_time": "2022-10-06T22:33:56.855127",
     "exception": false,
     "start_time": "2022-10-06T22:33:56.819161",
     "status": "completed"
    },
    "tags": []
   },
   "outputs": [
    {
     "data": {
      "text/html": [
       "<div>\n",
       "<style scoped>\n",
       "    .dataframe tbody tr th:only-of-type {\n",
       "        vertical-align: middle;\n",
       "    }\n",
       "\n",
       "    .dataframe tbody tr th {\n",
       "        vertical-align: top;\n",
       "    }\n",
       "\n",
       "    .dataframe thead th {\n",
       "        text-align: right;\n",
       "    }\n",
       "</style>\n",
       "<table border=\"1\" class=\"dataframe\">\n",
       "  <thead>\n",
       "    <tr style=\"text-align: right;\">\n",
       "      <th></th>\n",
       "      <th>offer expiration</th>\n",
       "      <th>income_range</th>\n",
       "      <th>no_visited_Cold drinks</th>\n",
       "      <th>travelled_more_than_15mins_for_offer</th>\n",
       "      <th>Restaur_spend_less_than20</th>\n",
       "      <th>age</th>\n",
       "      <th>Prefer western over chinese</th>\n",
       "      <th>travelled_more_than_25mins_for_offer</th>\n",
       "      <th>no_visited_bars</th>\n",
       "      <th>gender</th>\n",
       "      <th>...</th>\n",
       "      <th>Job/Job Industry_Sales &amp; Related</th>\n",
       "      <th>Job/Job Industry_Student</th>\n",
       "      <th>Job/Job Industry_Transportation &amp; Material Moving</th>\n",
       "      <th>Job/Job Industry_Unemployed</th>\n",
       "      <th>Climate_Spring</th>\n",
       "      <th>Climate_Summer</th>\n",
       "      <th>Climate_Winter</th>\n",
       "      <th>drop location_Location A</th>\n",
       "      <th>drop location_Location B</th>\n",
       "      <th>drop location_Location C</th>\n",
       "    </tr>\n",
       "  </thead>\n",
       "  <tbody>\n",
       "    <tr>\n",
       "      <th>0</th>\n",
       "      <td>48</td>\n",
       "      <td>8</td>\n",
       "      <td>3</td>\n",
       "      <td>1</td>\n",
       "      <td>1</td>\n",
       "      <td>4</td>\n",
       "      <td>0</td>\n",
       "      <td>0</td>\n",
       "      <td>1</td>\n",
       "      <td>0</td>\n",
       "      <td>...</td>\n",
       "      <td>0</td>\n",
       "      <td>0</td>\n",
       "      <td>0</td>\n",
       "      <td>1</td>\n",
       "      <td>1</td>\n",
       "      <td>0</td>\n",
       "      <td>0</td>\n",
       "      <td>0</td>\n",
       "      <td>1</td>\n",
       "      <td>0</td>\n",
       "    </tr>\n",
       "    <tr>\n",
       "      <th>1</th>\n",
       "      <td>48</td>\n",
       "      <td>7</td>\n",
       "      <td>3</td>\n",
       "      <td>0</td>\n",
       "      <td>3</td>\n",
       "      <td>7</td>\n",
       "      <td>0</td>\n",
       "      <td>0</td>\n",
       "      <td>0</td>\n",
       "      <td>0</td>\n",
       "      <td>...</td>\n",
       "      <td>0</td>\n",
       "      <td>0</td>\n",
       "      <td>0</td>\n",
       "      <td>1</td>\n",
       "      <td>0</td>\n",
       "      <td>1</td>\n",
       "      <td>0</td>\n",
       "      <td>0</td>\n",
       "      <td>1</td>\n",
       "      <td>0</td>\n",
       "    </tr>\n",
       "    <tr>\n",
       "      <th>2</th>\n",
       "      <td>48</td>\n",
       "      <td>7</td>\n",
       "      <td>1</td>\n",
       "      <td>1</td>\n",
       "      <td>2</td>\n",
       "      <td>2</td>\n",
       "      <td>1</td>\n",
       "      <td>0</td>\n",
       "      <td>0</td>\n",
       "      <td>0</td>\n",
       "      <td>...</td>\n",
       "      <td>0</td>\n",
       "      <td>0</td>\n",
       "      <td>0</td>\n",
       "      <td>0</td>\n",
       "      <td>0</td>\n",
       "      <td>0</td>\n",
       "      <td>1</td>\n",
       "      <td>1</td>\n",
       "      <td>0</td>\n",
       "      <td>0</td>\n",
       "    </tr>\n",
       "    <tr>\n",
       "      <th>3</th>\n",
       "      <td>10</td>\n",
       "      <td>3</td>\n",
       "      <td>1</td>\n",
       "      <td>0</td>\n",
       "      <td>2</td>\n",
       "      <td>6</td>\n",
       "      <td>1</td>\n",
       "      <td>0</td>\n",
       "      <td>0</td>\n",
       "      <td>1</td>\n",
       "      <td>...</td>\n",
       "      <td>1</td>\n",
       "      <td>0</td>\n",
       "      <td>0</td>\n",
       "      <td>0</td>\n",
       "      <td>0</td>\n",
       "      <td>1</td>\n",
       "      <td>0</td>\n",
       "      <td>0</td>\n",
       "      <td>0</td>\n",
       "      <td>1</td>\n",
       "    </tr>\n",
       "    <tr>\n",
       "      <th>4</th>\n",
       "      <td>48</td>\n",
       "      <td>8</td>\n",
       "      <td>0</td>\n",
       "      <td>1</td>\n",
       "      <td>2</td>\n",
       "      <td>1</td>\n",
       "      <td>0</td>\n",
       "      <td>1</td>\n",
       "      <td>1</td>\n",
       "      <td>0</td>\n",
       "      <td>...</td>\n",
       "      <td>1</td>\n",
       "      <td>0</td>\n",
       "      <td>0</td>\n",
       "      <td>0</td>\n",
       "      <td>0</td>\n",
       "      <td>1</td>\n",
       "      <td>0</td>\n",
       "      <td>0</td>\n",
       "      <td>0</td>\n",
       "      <td>1</td>\n",
       "    </tr>\n",
       "  </tbody>\n",
       "</table>\n",
       "<p>5 rows × 68 columns</p>\n",
       "</div>"
      ],
      "text/plain": [
       "   offer expiration  income_range  no_visited_Cold drinks  \\\n",
       "0                48             8                       3   \n",
       "1                48             7                       3   \n",
       "2                48             7                       1   \n",
       "3                10             3                       1   \n",
       "4                48             8                       0   \n",
       "\n",
       "   travelled_more_than_15mins_for_offer  Restaur_spend_less_than20  age  \\\n",
       "0                                     1                          1    4   \n",
       "1                                     0                          3    7   \n",
       "2                                     1                          2    2   \n",
       "3                                     0                          2    6   \n",
       "4                                     1                          2    1   \n",
       "\n",
       "   Prefer western over chinese  travelled_more_than_25mins_for_offer  \\\n",
       "0                            0                                     0   \n",
       "1                            0                                     0   \n",
       "2                            1                                     0   \n",
       "3                            1                                     0   \n",
       "4                            0                                     1   \n",
       "\n",
       "   no_visited_bars  gender  ...  Job/Job Industry_Sales & Related  \\\n",
       "0                1       0  ...                                 0   \n",
       "1                0       0  ...                                 0   \n",
       "2                0       0  ...                                 0   \n",
       "3                0       1  ...                                 1   \n",
       "4                1       0  ...                                 1   \n",
       "\n",
       "   Job/Job Industry_Student  \\\n",
       "0                         0   \n",
       "1                         0   \n",
       "2                         0   \n",
       "3                         0   \n",
       "4                         0   \n",
       "\n",
       "   Job/Job Industry_Transportation & Material Moving  \\\n",
       "0                                                  0   \n",
       "1                                                  0   \n",
       "2                                                  0   \n",
       "3                                                  0   \n",
       "4                                                  0   \n",
       "\n",
       "   Job/Job Industry_Unemployed  Climate_Spring  Climate_Summer  \\\n",
       "0                            1               1               0   \n",
       "1                            1               0               1   \n",
       "2                            0               0               0   \n",
       "3                            0               0               1   \n",
       "4                            0               0               1   \n",
       "\n",
       "   Climate_Winter  drop location_Location A  drop location_Location B  \\\n",
       "0               0                         0                         1   \n",
       "1               0                         0                         1   \n",
       "2               1                         1                         0   \n",
       "3               0                         0                         0   \n",
       "4               0                         0                         0   \n",
       "\n",
       "   drop location_Location C  \n",
       "0                         0  \n",
       "1                         0  \n",
       "2                         0  \n",
       "3                         1  \n",
       "4                         1  \n",
       "\n",
       "[5 rows x 68 columns]"
      ]
     },
     "execution_count": 24,
     "metadata": {},
     "output_type": "execute_result"
    }
   ],
   "source": [
    "train_data.head()"
   ]
  },
  {
   "cell_type": "code",
   "execution_count": 25,
   "id": "898eb399",
   "metadata": {
    "execution": {
     "iopub.execute_input": "2022-10-06T22:33:56.885333Z",
     "iopub.status.busy": "2022-10-06T22:33:56.884938Z",
     "iopub.status.idle": "2022-10-06T22:33:56.903901Z",
     "shell.execute_reply": "2022-10-06T22:33:56.903116Z"
    },
    "papermill": {
     "duration": 0.036589,
     "end_time": "2022-10-06T22:33:56.905926",
     "exception": false,
     "start_time": "2022-10-06T22:33:56.869337",
     "status": "completed"
    },
    "tags": []
   },
   "outputs": [
    {
     "data": {
      "text/html": [
       "<div>\n",
       "<style scoped>\n",
       "    .dataframe tbody tr th:only-of-type {\n",
       "        vertical-align: middle;\n",
       "    }\n",
       "\n",
       "    .dataframe tbody tr th {\n",
       "        vertical-align: top;\n",
       "    }\n",
       "\n",
       "    .dataframe thead th {\n",
       "        text-align: right;\n",
       "    }\n",
       "</style>\n",
       "<table border=\"1\" class=\"dataframe\">\n",
       "  <thead>\n",
       "    <tr style=\"text-align: right;\">\n",
       "      <th></th>\n",
       "      <th>offer expiration</th>\n",
       "      <th>income_range</th>\n",
       "      <th>no_visited_Cold drinks</th>\n",
       "      <th>travelled_more_than_15mins_for_offer</th>\n",
       "      <th>Restaur_spend_less_than20</th>\n",
       "      <th>age</th>\n",
       "      <th>Prefer western over chinese</th>\n",
       "      <th>travelled_more_than_25mins_for_offer</th>\n",
       "      <th>no_visited_bars</th>\n",
       "      <th>gender</th>\n",
       "      <th>...</th>\n",
       "      <th>Job/Job Industry_Sales &amp; Related</th>\n",
       "      <th>Job/Job Industry_Student</th>\n",
       "      <th>Job/Job Industry_Transportation &amp; Material Moving</th>\n",
       "      <th>Job/Job Industry_Unemployed</th>\n",
       "      <th>Climate_Spring</th>\n",
       "      <th>Climate_Summer</th>\n",
       "      <th>Climate_Winter</th>\n",
       "      <th>drop location_Location A</th>\n",
       "      <th>drop location_Location B</th>\n",
       "      <th>drop location_Location C</th>\n",
       "    </tr>\n",
       "  </thead>\n",
       "  <tbody>\n",
       "    <tr>\n",
       "      <th>0</th>\n",
       "      <td>48</td>\n",
       "      <td>3</td>\n",
       "      <td>2</td>\n",
       "      <td>1</td>\n",
       "      <td>2</td>\n",
       "      <td>7</td>\n",
       "      <td>0</td>\n",
       "      <td>1</td>\n",
       "      <td>1</td>\n",
       "      <td>1</td>\n",
       "      <td>...</td>\n",
       "      <td>1</td>\n",
       "      <td>0</td>\n",
       "      <td>0</td>\n",
       "      <td>0</td>\n",
       "      <td>0</td>\n",
       "      <td>1</td>\n",
       "      <td>0</td>\n",
       "      <td>0</td>\n",
       "      <td>0</td>\n",
       "      <td>1</td>\n",
       "    </tr>\n",
       "    <tr>\n",
       "      <th>1</th>\n",
       "      <td>10</td>\n",
       "      <td>2</td>\n",
       "      <td>3</td>\n",
       "      <td>0</td>\n",
       "      <td>2</td>\n",
       "      <td>1</td>\n",
       "      <td>1</td>\n",
       "      <td>0</td>\n",
       "      <td>4</td>\n",
       "      <td>1</td>\n",
       "      <td>...</td>\n",
       "      <td>0</td>\n",
       "      <td>0</td>\n",
       "      <td>0</td>\n",
       "      <td>0</td>\n",
       "      <td>0</td>\n",
       "      <td>1</td>\n",
       "      <td>0</td>\n",
       "      <td>1</td>\n",
       "      <td>0</td>\n",
       "      <td>0</td>\n",
       "    </tr>\n",
       "    <tr>\n",
       "      <th>2</th>\n",
       "      <td>48</td>\n",
       "      <td>8</td>\n",
       "      <td>0</td>\n",
       "      <td>1</td>\n",
       "      <td>0</td>\n",
       "      <td>1</td>\n",
       "      <td>1</td>\n",
       "      <td>0</td>\n",
       "      <td>0</td>\n",
       "      <td>0</td>\n",
       "      <td>...</td>\n",
       "      <td>0</td>\n",
       "      <td>0</td>\n",
       "      <td>0</td>\n",
       "      <td>1</td>\n",
       "      <td>0</td>\n",
       "      <td>1</td>\n",
       "      <td>0</td>\n",
       "      <td>0</td>\n",
       "      <td>0</td>\n",
       "      <td>1</td>\n",
       "    </tr>\n",
       "    <tr>\n",
       "      <th>3</th>\n",
       "      <td>48</td>\n",
       "      <td>2</td>\n",
       "      <td>0</td>\n",
       "      <td>1</td>\n",
       "      <td>2</td>\n",
       "      <td>5</td>\n",
       "      <td>0</td>\n",
       "      <td>0</td>\n",
       "      <td>0</td>\n",
       "      <td>0</td>\n",
       "      <td>...</td>\n",
       "      <td>0</td>\n",
       "      <td>0</td>\n",
       "      <td>0</td>\n",
       "      <td>1</td>\n",
       "      <td>1</td>\n",
       "      <td>0</td>\n",
       "      <td>0</td>\n",
       "      <td>0</td>\n",
       "      <td>0</td>\n",
       "      <td>1</td>\n",
       "    </tr>\n",
       "    <tr>\n",
       "      <th>4</th>\n",
       "      <td>10</td>\n",
       "      <td>1</td>\n",
       "      <td>0</td>\n",
       "      <td>0</td>\n",
       "      <td>2</td>\n",
       "      <td>3</td>\n",
       "      <td>1</td>\n",
       "      <td>0</td>\n",
       "      <td>0</td>\n",
       "      <td>1</td>\n",
       "      <td>...</td>\n",
       "      <td>0</td>\n",
       "      <td>0</td>\n",
       "      <td>0</td>\n",
       "      <td>1</td>\n",
       "      <td>0</td>\n",
       "      <td>1</td>\n",
       "      <td>0</td>\n",
       "      <td>0</td>\n",
       "      <td>1</td>\n",
       "      <td>0</td>\n",
       "    </tr>\n",
       "  </tbody>\n",
       "</table>\n",
       "<p>5 rows × 67 columns</p>\n",
       "</div>"
      ],
      "text/plain": [
       "   offer expiration  income_range  no_visited_Cold drinks  \\\n",
       "0                48             3                       2   \n",
       "1                10             2                       3   \n",
       "2                48             8                       0   \n",
       "3                48             2                       0   \n",
       "4                10             1                       0   \n",
       "\n",
       "   travelled_more_than_15mins_for_offer  Restaur_spend_less_than20  age  \\\n",
       "0                                     1                          2    7   \n",
       "1                                     0                          2    1   \n",
       "2                                     1                          0    1   \n",
       "3                                     1                          2    5   \n",
       "4                                     0                          2    3   \n",
       "\n",
       "   Prefer western over chinese  travelled_more_than_25mins_for_offer  \\\n",
       "0                            0                                     1   \n",
       "1                            1                                     0   \n",
       "2                            1                                     0   \n",
       "3                            0                                     0   \n",
       "4                            1                                     0   \n",
       "\n",
       "   no_visited_bars  gender  ...  Job/Job Industry_Sales & Related  \\\n",
       "0                1       1  ...                                 1   \n",
       "1                4       1  ...                                 0   \n",
       "2                0       0  ...                                 0   \n",
       "3                0       0  ...                                 0   \n",
       "4                0       1  ...                                 0   \n",
       "\n",
       "   Job/Job Industry_Student  \\\n",
       "0                         0   \n",
       "1                         0   \n",
       "2                         0   \n",
       "3                         0   \n",
       "4                         0   \n",
       "\n",
       "   Job/Job Industry_Transportation & Material Moving  \\\n",
       "0                                                  0   \n",
       "1                                                  0   \n",
       "2                                                  0   \n",
       "3                                                  0   \n",
       "4                                                  0   \n",
       "\n",
       "   Job/Job Industry_Unemployed  Climate_Spring  Climate_Summer  \\\n",
       "0                            0               0               1   \n",
       "1                            0               0               1   \n",
       "2                            1               0               1   \n",
       "3                            1               1               0   \n",
       "4                            1               0               1   \n",
       "\n",
       "   Climate_Winter  drop location_Location A  drop location_Location B  \\\n",
       "0               0                         0                         0   \n",
       "1               0                         1                         0   \n",
       "2               0                         0                         0   \n",
       "3               0                         0                         0   \n",
       "4               0                         0                         1   \n",
       "\n",
       "   drop location_Location C  \n",
       "0                         1  \n",
       "1                         0  \n",
       "2                         1  \n",
       "3                         1  \n",
       "4                         0  \n",
       "\n",
       "[5 rows x 67 columns]"
      ]
     },
     "execution_count": 25,
     "metadata": {},
     "output_type": "execute_result"
    }
   ],
   "source": [
    "test_data.head()"
   ]
  },
  {
   "cell_type": "code",
   "execution_count": 26,
   "id": "40f2e364",
   "metadata": {
    "execution": {
     "iopub.execute_input": "2022-10-06T22:33:56.936699Z",
     "iopub.status.busy": "2022-10-06T22:33:56.936276Z",
     "iopub.status.idle": "2022-10-06T22:33:56.949335Z",
     "shell.execute_reply": "2022-10-06T22:33:56.948375Z"
    },
    "papermill": {
     "duration": 0.031091,
     "end_time": "2022-10-06T22:33:56.951607",
     "exception": false,
     "start_time": "2022-10-06T22:33:56.920516",
     "status": "completed"
    },
    "tags": []
   },
   "outputs": [],
   "source": [
    "y_train = train_data['Offer Accepted'].replace(['No', 'Yes'], [0, 1])\n",
    "X_train = train_data.drop(['Offer Accepted'], axis = 1)"
   ]
  },
  {
   "cell_type": "code",
   "execution_count": 27,
   "id": "8794f2b0",
   "metadata": {
    "execution": {
     "iopub.execute_input": "2022-10-06T22:33:56.982287Z",
     "iopub.status.busy": "2022-10-06T22:33:56.981893Z",
     "iopub.status.idle": "2022-10-06T22:33:56.989019Z",
     "shell.execute_reply": "2022-10-06T22:33:56.988225Z"
    },
    "papermill": {
     "duration": 0.024793,
     "end_time": "2022-10-06T22:33:56.991032",
     "exception": false,
     "start_time": "2022-10-06T22:33:56.966239",
     "status": "completed"
    },
    "tags": []
   },
   "outputs": [
    {
     "data": {
      "text/plain": [
       "0    0\n",
       "1    1\n",
       "2    1\n",
       "3    0\n",
       "4    0\n",
       "Name: Offer Accepted, dtype: int64"
      ]
     },
     "execution_count": 27,
     "metadata": {},
     "output_type": "execute_result"
    }
   ],
   "source": [
    "y_train.head()"
   ]
  },
  {
   "cell_type": "code",
   "execution_count": 28,
   "id": "00f9d66f",
   "metadata": {
    "execution": {
     "iopub.execute_input": "2022-10-06T22:33:57.027594Z",
     "iopub.status.busy": "2022-10-06T22:33:57.026715Z",
     "iopub.status.idle": "2022-10-06T22:33:57.050134Z",
     "shell.execute_reply": "2022-10-06T22:33:57.049286Z"
    },
    "papermill": {
     "duration": 0.044757,
     "end_time": "2022-10-06T22:33:57.053010",
     "exception": false,
     "start_time": "2022-10-06T22:33:57.008253",
     "status": "completed"
    },
    "tags": []
   },
   "outputs": [
    {
     "data": {
      "text/html": [
       "<div>\n",
       "<style scoped>\n",
       "    .dataframe tbody tr th:only-of-type {\n",
       "        vertical-align: middle;\n",
       "    }\n",
       "\n",
       "    .dataframe tbody tr th {\n",
       "        vertical-align: top;\n",
       "    }\n",
       "\n",
       "    .dataframe thead th {\n",
       "        text-align: right;\n",
       "    }\n",
       "</style>\n",
       "<table border=\"1\" class=\"dataframe\">\n",
       "  <thead>\n",
       "    <tr style=\"text-align: right;\">\n",
       "      <th></th>\n",
       "      <th>offer expiration</th>\n",
       "      <th>income_range</th>\n",
       "      <th>no_visited_Cold drinks</th>\n",
       "      <th>travelled_more_than_15mins_for_offer</th>\n",
       "      <th>Restaur_spend_less_than20</th>\n",
       "      <th>age</th>\n",
       "      <th>Prefer western over chinese</th>\n",
       "      <th>travelled_more_than_25mins_for_offer</th>\n",
       "      <th>no_visited_bars</th>\n",
       "      <th>gender</th>\n",
       "      <th>...</th>\n",
       "      <th>Job/Job Industry_Sales &amp; Related</th>\n",
       "      <th>Job/Job Industry_Student</th>\n",
       "      <th>Job/Job Industry_Transportation &amp; Material Moving</th>\n",
       "      <th>Job/Job Industry_Unemployed</th>\n",
       "      <th>Climate_Spring</th>\n",
       "      <th>Climate_Summer</th>\n",
       "      <th>Climate_Winter</th>\n",
       "      <th>drop location_Location A</th>\n",
       "      <th>drop location_Location B</th>\n",
       "      <th>drop location_Location C</th>\n",
       "    </tr>\n",
       "  </thead>\n",
       "  <tbody>\n",
       "    <tr>\n",
       "      <th>0</th>\n",
       "      <td>48</td>\n",
       "      <td>8</td>\n",
       "      <td>3</td>\n",
       "      <td>1</td>\n",
       "      <td>1</td>\n",
       "      <td>4</td>\n",
       "      <td>0</td>\n",
       "      <td>0</td>\n",
       "      <td>1</td>\n",
       "      <td>0</td>\n",
       "      <td>...</td>\n",
       "      <td>0</td>\n",
       "      <td>0</td>\n",
       "      <td>0</td>\n",
       "      <td>1</td>\n",
       "      <td>1</td>\n",
       "      <td>0</td>\n",
       "      <td>0</td>\n",
       "      <td>0</td>\n",
       "      <td>1</td>\n",
       "      <td>0</td>\n",
       "    </tr>\n",
       "    <tr>\n",
       "      <th>1</th>\n",
       "      <td>48</td>\n",
       "      <td>7</td>\n",
       "      <td>3</td>\n",
       "      <td>0</td>\n",
       "      <td>3</td>\n",
       "      <td>7</td>\n",
       "      <td>0</td>\n",
       "      <td>0</td>\n",
       "      <td>0</td>\n",
       "      <td>0</td>\n",
       "      <td>...</td>\n",
       "      <td>0</td>\n",
       "      <td>0</td>\n",
       "      <td>0</td>\n",
       "      <td>1</td>\n",
       "      <td>0</td>\n",
       "      <td>1</td>\n",
       "      <td>0</td>\n",
       "      <td>0</td>\n",
       "      <td>1</td>\n",
       "      <td>0</td>\n",
       "    </tr>\n",
       "    <tr>\n",
       "      <th>2</th>\n",
       "      <td>48</td>\n",
       "      <td>7</td>\n",
       "      <td>1</td>\n",
       "      <td>1</td>\n",
       "      <td>2</td>\n",
       "      <td>2</td>\n",
       "      <td>1</td>\n",
       "      <td>0</td>\n",
       "      <td>0</td>\n",
       "      <td>0</td>\n",
       "      <td>...</td>\n",
       "      <td>0</td>\n",
       "      <td>0</td>\n",
       "      <td>0</td>\n",
       "      <td>0</td>\n",
       "      <td>0</td>\n",
       "      <td>0</td>\n",
       "      <td>1</td>\n",
       "      <td>1</td>\n",
       "      <td>0</td>\n",
       "      <td>0</td>\n",
       "    </tr>\n",
       "    <tr>\n",
       "      <th>3</th>\n",
       "      <td>10</td>\n",
       "      <td>3</td>\n",
       "      <td>1</td>\n",
       "      <td>0</td>\n",
       "      <td>2</td>\n",
       "      <td>6</td>\n",
       "      <td>1</td>\n",
       "      <td>0</td>\n",
       "      <td>0</td>\n",
       "      <td>1</td>\n",
       "      <td>...</td>\n",
       "      <td>1</td>\n",
       "      <td>0</td>\n",
       "      <td>0</td>\n",
       "      <td>0</td>\n",
       "      <td>0</td>\n",
       "      <td>1</td>\n",
       "      <td>0</td>\n",
       "      <td>0</td>\n",
       "      <td>0</td>\n",
       "      <td>1</td>\n",
       "    </tr>\n",
       "    <tr>\n",
       "      <th>4</th>\n",
       "      <td>48</td>\n",
       "      <td>8</td>\n",
       "      <td>0</td>\n",
       "      <td>1</td>\n",
       "      <td>2</td>\n",
       "      <td>1</td>\n",
       "      <td>0</td>\n",
       "      <td>1</td>\n",
       "      <td>1</td>\n",
       "      <td>0</td>\n",
       "      <td>...</td>\n",
       "      <td>1</td>\n",
       "      <td>0</td>\n",
       "      <td>0</td>\n",
       "      <td>0</td>\n",
       "      <td>0</td>\n",
       "      <td>1</td>\n",
       "      <td>0</td>\n",
       "      <td>0</td>\n",
       "      <td>0</td>\n",
       "      <td>1</td>\n",
       "    </tr>\n",
       "  </tbody>\n",
       "</table>\n",
       "<p>5 rows × 67 columns</p>\n",
       "</div>"
      ],
      "text/plain": [
       "   offer expiration  income_range  no_visited_Cold drinks  \\\n",
       "0                48             8                       3   \n",
       "1                48             7                       3   \n",
       "2                48             7                       1   \n",
       "3                10             3                       1   \n",
       "4                48             8                       0   \n",
       "\n",
       "   travelled_more_than_15mins_for_offer  Restaur_spend_less_than20  age  \\\n",
       "0                                     1                          1    4   \n",
       "1                                     0                          3    7   \n",
       "2                                     1                          2    2   \n",
       "3                                     0                          2    6   \n",
       "4                                     1                          2    1   \n",
       "\n",
       "   Prefer western over chinese  travelled_more_than_25mins_for_offer  \\\n",
       "0                            0                                     0   \n",
       "1                            0                                     0   \n",
       "2                            1                                     0   \n",
       "3                            1                                     0   \n",
       "4                            0                                     1   \n",
       "\n",
       "   no_visited_bars  gender  ...  Job/Job Industry_Sales & Related  \\\n",
       "0                1       0  ...                                 0   \n",
       "1                0       0  ...                                 0   \n",
       "2                0       0  ...                                 0   \n",
       "3                0       1  ...                                 1   \n",
       "4                1       0  ...                                 1   \n",
       "\n",
       "   Job/Job Industry_Student  \\\n",
       "0                         0   \n",
       "1                         0   \n",
       "2                         0   \n",
       "3                         0   \n",
       "4                         0   \n",
       "\n",
       "   Job/Job Industry_Transportation & Material Moving  \\\n",
       "0                                                  0   \n",
       "1                                                  0   \n",
       "2                                                  0   \n",
       "3                                                  0   \n",
       "4                                                  0   \n",
       "\n",
       "   Job/Job Industry_Unemployed  Climate_Spring  Climate_Summer  \\\n",
       "0                            1               1               0   \n",
       "1                            1               0               1   \n",
       "2                            0               0               0   \n",
       "3                            0               0               1   \n",
       "4                            0               0               1   \n",
       "\n",
       "   Climate_Winter  drop location_Location A  drop location_Location B  \\\n",
       "0               0                         0                         1   \n",
       "1               0                         0                         1   \n",
       "2               1                         1                         0   \n",
       "3               0                         0                         0   \n",
       "4               0                         0                         0   \n",
       "\n",
       "   drop location_Location C  \n",
       "0                         0  \n",
       "1                         0  \n",
       "2                         0  \n",
       "3                         1  \n",
       "4                         1  \n",
       "\n",
       "[5 rows x 67 columns]"
      ]
     },
     "execution_count": 28,
     "metadata": {},
     "output_type": "execute_result"
    }
   ],
   "source": [
    "X_train.head()"
   ]
  },
  {
   "cell_type": "code",
   "execution_count": 29,
   "id": "1f861705",
   "metadata": {
    "execution": {
     "iopub.execute_input": "2022-10-06T22:33:57.099504Z",
     "iopub.status.busy": "2022-10-06T22:33:57.098558Z",
     "iopub.status.idle": "2022-10-06T22:33:58.460281Z",
     "shell.execute_reply": "2022-10-06T22:33:58.459080Z"
    },
    "papermill": {
     "duration": 1.385945,
     "end_time": "2022-10-06T22:33:58.463218",
     "exception": false,
     "start_time": "2022-10-06T22:33:57.077273",
     "status": "completed"
    },
    "tags": []
   },
   "outputs": [],
   "source": [
    "from matplotlib import pyplot as plt\n",
    "from sklearn.pipeline import Pipeline, make_pipeline\n",
    "from sklearn.ensemble import RandomForestClassifier\n",
    "from sklearn.metrics import ConfusionMatrixDisplay, confusion_matrix, precision_recall_curve\n",
    "from sklearn.metrics import precision_score, recall_score, classification_report\n",
    "\n",
    "from sklearn.model_selection import train_test_split, cross_validate, cross_val_predict, GridSearchCV, RandomizedSearchCV\n",
    "from sklearn.preprocessing import StandardScaler, RobustScaler"
   ]
  },
  {
   "cell_type": "markdown",
   "id": "dcb29f21",
   "metadata": {
    "papermill": {
     "duration": 0.01537,
     "end_time": "2022-10-06T22:33:58.494345",
     "exception": false,
     "start_time": "2022-10-06T22:33:58.478975",
     "status": "completed"
    },
    "tags": []
   },
   "source": [
    "## Random Forest Classifier"
   ]
  },
  {
   "cell_type": "markdown",
   "id": "89c68c16",
   "metadata": {
    "papermill": {
     "duration": 0.015017,
     "end_time": "2022-10-06T22:33:58.525422",
     "exception": false,
     "start_time": "2022-10-06T22:33:58.510405",
     "status": "completed"
    },
    "tags": []
   },
   "source": [
    "### With all the features"
   ]
  },
  {
   "cell_type": "code",
   "execution_count": 30,
   "id": "1e8184a9",
   "metadata": {
    "execution": {
     "iopub.execute_input": "2022-10-06T22:33:58.557635Z",
     "iopub.status.busy": "2022-10-06T22:33:58.557226Z",
     "iopub.status.idle": "2022-10-06T22:33:58.574259Z",
     "shell.execute_reply": "2022-10-06T22:33:58.573118Z"
    },
    "papermill": {
     "duration": 0.036569,
     "end_time": "2022-10-06T22:33:58.577048",
     "exception": false,
     "start_time": "2022-10-06T22:33:58.540479",
     "status": "completed"
    },
    "tags": []
   },
   "outputs": [],
   "source": [
    "XX_train, XX_val, yy_train, yy_val = train_test_split(X_train, y_train, test_size = 0.2, random_state = 2811)"
   ]
  },
  {
   "cell_type": "code",
   "execution_count": 31,
   "id": "29504d78",
   "metadata": {
    "execution": {
     "iopub.execute_input": "2022-10-06T22:33:58.609458Z",
     "iopub.status.busy": "2022-10-06T22:33:58.609032Z",
     "iopub.status.idle": "2022-10-06T22:33:58.615011Z",
     "shell.execute_reply": "2022-10-06T22:33:58.613915Z"
    },
    "papermill": {
     "duration": 0.025075,
     "end_time": "2022-10-06T22:33:58.617678",
     "exception": false,
     "start_time": "2022-10-06T22:33:58.592603",
     "status": "completed"
    },
    "tags": []
   },
   "outputs": [],
   "source": [
    "# create pipeline with a scaler \n",
    "steps = [('scaler', RobustScaler()), ('rdf', RandomForestClassifier(n_jobs = -1, random_state = 2811))]\n",
    "pipeline = Pipeline(steps)"
   ]
  },
  {
   "cell_type": "code",
   "execution_count": 32,
   "id": "3cee7972",
   "metadata": {
    "execution": {
     "iopub.execute_input": "2022-10-06T22:33:58.650324Z",
     "iopub.status.busy": "2022-10-06T22:33:58.649943Z",
     "iopub.status.idle": "2022-10-06T22:33:58.655666Z",
     "shell.execute_reply": "2022-10-06T22:33:58.654609Z"
    },
    "papermill": {
     "duration": 0.024782,
     "end_time": "2022-10-06T22:33:58.657971",
     "exception": false,
     "start_time": "2022-10-06T22:33:58.633189",
     "status": "completed"
    },
    "tags": []
   },
   "outputs": [],
   "source": [
    "# Specifying parameters for hyperparameter tuning\n",
    "\n",
    "param_dist = {'rdf__criterion':['gini', 'entropy', 'log_loss'],\n",
    "         'rdf__max_depth':range(1,40,1),\n",
    "         'rdf__min_samples_split':range(1,35,1),\n",
    "         'rdf__min_samples_leaf':range(1,35,1),\n",
    "         'rdf__max_features':['sqrt', 'log2', None],\n",
    "         'rdf__n_estimators':range(10,200,5)}"
   ]
  },
  {
   "cell_type": "code",
   "execution_count": 33,
   "id": "035cbe55",
   "metadata": {
    "execution": {
     "iopub.execute_input": "2022-10-06T22:33:58.689700Z",
     "iopub.status.busy": "2022-10-06T22:33:58.689315Z",
     "iopub.status.idle": "2022-10-06T22:38:31.920073Z",
     "shell.execute_reply": "2022-10-06T22:38:31.918669Z"
    },
    "papermill": {
     "duration": 273.249948,
     "end_time": "2022-10-06T22:38:31.922982",
     "exception": false,
     "start_time": "2022-10-06T22:33:58.673034",
     "status": "completed"
    },
    "scrolled": true,
    "tags": []
   },
   "outputs": [
    {
     "name": "stderr",
     "output_type": "stream",
     "text": [
      "/opt/conda/lib/python3.7/site-packages/sklearn/model_selection/_validation.py:372: FitFailedWarning: \n",
      "85 fits failed out of a total of 250.\n",
      "The score on these train-test partitions for these parameters will be set to nan.\n",
      "If these failures are not expected, you can try to debug them by setting error_score='raise'.\n",
      "\n",
      "Below are more details about the failures:\n",
      "--------------------------------------------------------------------------------\n",
      "85 fits failed with the following error:\n",
      "joblib.externals.loky.process_executor._RemoteTraceback: \n",
      "\"\"\"\n",
      "Traceback (most recent call last):\n",
      "  File \"/opt/conda/lib/python3.7/site-packages/joblib/externals/loky/process_executor.py\", line 431, in _process_worker\n",
      "    r = call_item()\n",
      "  File \"/opt/conda/lib/python3.7/site-packages/joblib/externals/loky/process_executor.py\", line 285, in __call__\n",
      "    return self.fn(*self.args, **self.kwargs)\n",
      "  File \"/opt/conda/lib/python3.7/site-packages/joblib/_parallel_backends.py\", line 595, in __call__\n",
      "    return self.func(*args, **kwargs)\n",
      "  File \"/opt/conda/lib/python3.7/site-packages/joblib/parallel.py\", line 263, in __call__\n",
      "    for func, args, kwargs in self.items]\n",
      "  File \"/opt/conda/lib/python3.7/site-packages/joblib/parallel.py\", line 263, in <listcomp>\n",
      "    for func, args, kwargs in self.items]\n",
      "  File \"/opt/conda/lib/python3.7/site-packages/sklearn/utils/fixes.py\", line 216, in __call__\n",
      "    return self.function(*args, **kwargs)\n",
      "  File \"/opt/conda/lib/python3.7/site-packages/sklearn/ensemble/_forest.py\", line 185, in _parallel_build_trees\n",
      "    tree.fit(X, y, sample_weight=curr_sample_weight, check_input=False)\n",
      "  File \"/opt/conda/lib/python3.7/site-packages/sklearn/tree/_classes.py\", line 942, in fit\n",
      "    X_idx_sorted=X_idx_sorted,\n",
      "  File \"/opt/conda/lib/python3.7/site-packages/sklearn/tree/_classes.py\", line 352, in fit\n",
      "    criterion = CRITERIA_CLF[self.criterion](\n",
      "KeyError: 'log_loss'\n",
      "\"\"\"\n",
      "\n",
      "The above exception was the direct cause of the following exception:\n",
      "\n",
      "Traceback (most recent call last):\n",
      "  File \"/opt/conda/lib/python3.7/site-packages/sklearn/model_selection/_validation.py\", line 680, in _fit_and_score\n",
      "    estimator.fit(X_train, y_train, **fit_params)\n",
      "  File \"/opt/conda/lib/python3.7/site-packages/sklearn/pipeline.py\", line 394, in fit\n",
      "    self._final_estimator.fit(Xt, y, **fit_params_last_step)\n",
      "  File \"/opt/conda/lib/python3.7/site-packages/sklearn/ensemble/_forest.py\", line 467, in fit\n",
      "    for i, t in enumerate(trees)\n",
      "  File \"/opt/conda/lib/python3.7/site-packages/joblib/parallel.py\", line 1054, in __call__\n",
      "    self.retrieve()\n",
      "  File \"/opt/conda/lib/python3.7/site-packages/joblib/parallel.py\", line 933, in retrieve\n",
      "    self._output.extend(job.get(timeout=self.timeout))\n",
      "  File \"/opt/conda/lib/python3.7/site-packages/joblib/_parallel_backends.py\", line 542, in wrap_future_result\n",
      "    return future.result(timeout=timeout)\n",
      "  File \"/opt/conda/lib/python3.7/concurrent/futures/_base.py\", line 435, in result\n",
      "    return self.__get_result()\n",
      "  File \"/opt/conda/lib/python3.7/concurrent/futures/_base.py\", line 384, in __get_result\n",
      "    raise self._exception\n",
      "KeyError: 'log_loss'\n",
      "\n",
      "  warnings.warn(some_fits_failed_message, FitFailedWarning)\n",
      "/opt/conda/lib/python3.7/site-packages/sklearn/model_selection/_search.py:972: UserWarning: One or more of the test scores are non-finite: [       nan 0.6187902  0.62145572 0.57645988 0.61943588        nan\n",
      " 0.61701294        nan 0.63042277        nan 0.62541437        nan\n",
      " 0.63009951 0.62395989 0.61798195 0.6203248         nan 0.62218276\n",
      " 0.6271913  0.60885371        nan 0.62549472 0.62258697        nan\n",
      " 0.62282962 0.62864594        nan 0.6232334  0.62202118 0.63123069\n",
      " 0.62395947        nan        nan 0.63163483        nan 0.62630323\n",
      " 0.63131143 0.62452519 0.63082685 0.62323327        nan 0.61515484\n",
      " 0.62299078 0.61677071        nan        nan 0.63147305        nan\n",
      " 0.6303418         nan]\n",
      "  category=UserWarning,\n"
     ]
    },
    {
     "data": {
      "text/plain": [
       "RandomizedSearchCV(estimator=Pipeline(steps=[('scaler', RobustScaler()),\n",
       "                                             ('rdf',\n",
       "                                              RandomForestClassifier(n_jobs=-1,\n",
       "                                                                     random_state=2811))]),\n",
       "                   n_iter=50,\n",
       "                   param_distributions={'rdf__criterion': ['gini', 'entropy',\n",
       "                                                           'log_loss'],\n",
       "                                        'rdf__max_depth': range(1, 40),\n",
       "                                        'rdf__max_features': ['sqrt', 'log2',\n",
       "                                                              None],\n",
       "                                        'rdf__min_samples_leaf': range(1, 35),\n",
       "                                        'rdf__min_samples_split': range(1, 35),\n",
       "                                        'rdf__n_estimators': range(10, 200, 5)})"
      ]
     },
     "execution_count": 33,
     "metadata": {},
     "output_type": "execute_result"
    }
   ],
   "source": [
    "# do search\n",
    "\n",
    "search = RandomizedSearchCV(pipeline, \n",
    "param_distributions=param_dist, n_iter=50)\n",
    "\n",
    "search.fit(X_train, y_train)"
   ]
  },
  {
   "cell_type": "code",
   "execution_count": 34,
   "id": "cb33e4ac",
   "metadata": {
    "execution": {
     "iopub.execute_input": "2022-10-06T22:38:31.956011Z",
     "iopub.status.busy": "2022-10-06T22:38:31.955242Z",
     "iopub.status.idle": "2022-10-06T22:38:31.962091Z",
     "shell.execute_reply": "2022-10-06T22:38:31.961291Z"
    },
    "papermill": {
     "duration": 0.026076,
     "end_time": "2022-10-06T22:38:31.964339",
     "exception": false,
     "start_time": "2022-10-06T22:38:31.938263",
     "status": "completed"
    },
    "tags": []
   },
   "outputs": [
    {
     "data": {
      "text/plain": [
       "{'rdf__n_estimators': 105,\n",
       " 'rdf__min_samples_split': 13,\n",
       " 'rdf__min_samples_leaf': 1,\n",
       " 'rdf__max_features': 'sqrt',\n",
       " 'rdf__max_depth': 21,\n",
       " 'rdf__criterion': 'entropy'}"
      ]
     },
     "execution_count": 34,
     "metadata": {},
     "output_type": "execute_result"
    }
   ],
   "source": [
    "search.best_params_"
   ]
  },
  {
   "cell_type": "code",
   "execution_count": 35,
   "id": "96e30454",
   "metadata": {
    "execution": {
     "iopub.execute_input": "2022-10-06T22:38:31.997430Z",
     "iopub.status.busy": "2022-10-06T22:38:31.996367Z",
     "iopub.status.idle": "2022-10-06T22:38:32.003995Z",
     "shell.execute_reply": "2022-10-06T22:38:32.002691Z"
    },
    "papermill": {
     "duration": 0.026701,
     "end_time": "2022-10-06T22:38:32.006551",
     "exception": false,
     "start_time": "2022-10-06T22:38:31.979850",
     "status": "completed"
    },
    "tags": []
   },
   "outputs": [],
   "source": [
    "# create pipeline with a scaler and tuned Hyperparamters\n",
    "steps = [('scaler', RobustScaler()), ('rdf', RandomForestClassifier(n_jobs = -1, n_estimators = 145, min_samples_split = 18,\n",
    "                                                           min_samples_leaf = 2, max_features = None, max_depth = 21, \n",
    "                                                                    criterion = 'entropy', random_state = 2811))]\n",
    "pipeline_rdf = Pipeline(steps)"
   ]
  },
  {
   "cell_type": "code",
   "execution_count": 36,
   "id": "05c12d29",
   "metadata": {
    "execution": {
     "iopub.execute_input": "2022-10-06T22:38:32.044749Z",
     "iopub.status.busy": "2022-10-06T22:38:32.043908Z",
     "iopub.status.idle": "2022-10-06T22:38:35.676469Z",
     "shell.execute_reply": "2022-10-06T22:38:35.675348Z"
    },
    "papermill": {
     "duration": 3.654959,
     "end_time": "2022-10-06T22:38:35.678756",
     "exception": false,
     "start_time": "2022-10-06T22:38:32.023797",
     "status": "completed"
    },
    "tags": []
   },
   "outputs": [
    {
     "data": {
      "text/plain": [
       "Pipeline(steps=[('scaler', RobustScaler()),\n",
       "                ('rdf',\n",
       "                 RandomForestClassifier(criterion='entropy', max_depth=21,\n",
       "                                        max_features=None, min_samples_leaf=2,\n",
       "                                        min_samples_split=18, n_estimators=145,\n",
       "                                        n_jobs=-1, random_state=2811))])"
      ]
     },
     "execution_count": 36,
     "metadata": {},
     "output_type": "execute_result"
    }
   ],
   "source": [
    "pipeline_rdf.fit(XX_train, yy_train)"
   ]
  },
  {
   "cell_type": "code",
   "execution_count": 37,
   "id": "db767dce",
   "metadata": {
    "execution": {
     "iopub.execute_input": "2022-10-06T22:38:35.712275Z",
     "iopub.status.busy": "2022-10-06T22:38:35.711318Z",
     "iopub.status.idle": "2022-10-06T22:38:35.823678Z",
     "shell.execute_reply": "2022-10-06T22:38:35.822620Z"
    },
    "papermill": {
     "duration": 0.13188,
     "end_time": "2022-10-06T22:38:35.826174",
     "exception": false,
     "start_time": "2022-10-06T22:38:35.694294",
     "status": "completed"
    },
    "tags": []
   },
   "outputs": [],
   "source": [
    "y_hat = pipeline_rdf.predict(XX_val)"
   ]
  },
  {
   "cell_type": "markdown",
   "id": "47dbfdce",
   "metadata": {
    "papermill": {
     "duration": 0.015523,
     "end_time": "2022-10-06T22:38:35.857622",
     "exception": false,
     "start_time": "2022-10-06T22:38:35.842099",
     "status": "completed"
    },
    "tags": []
   },
   "source": [
    "#### Evaluation Metrics"
   ]
  },
  {
   "cell_type": "code",
   "execution_count": 38,
   "id": "eb1dabc4",
   "metadata": {
    "execution": {
     "iopub.execute_input": "2022-10-06T22:38:35.889789Z",
     "iopub.status.busy": "2022-10-06T22:38:35.889394Z",
     "iopub.status.idle": "2022-10-06T22:38:36.164646Z",
     "shell.execute_reply": "2022-10-06T22:38:36.163574Z"
    },
    "papermill": {
     "duration": 0.294242,
     "end_time": "2022-10-06T22:38:36.167219",
     "exception": false,
     "start_time": "2022-10-06T22:38:35.872977",
     "status": "completed"
    },
    "tags": []
   },
   "outputs": [
    {
     "data": {
      "image/png": "[encoded data removed]",
      "text/plain": [
       "<Figure size 432x288 with 2 Axes>"
      ]
     },
     "metadata": {
      "needs_background": "light"
     },
     "output_type": "display_data"
    }
   ],
   "source": [
    "cm_display = ConfusionMatrixDisplay.from_predictions(yy_val ,y_hat ,values_format='.5g')\n",
    "\n",
    "plt.show()"
   ]
  },
  {
   "cell_type": "code",
   "execution_count": 39,
   "id": "e43fd583",
   "metadata": {
    "execution": {
     "iopub.execute_input": "2022-10-06T22:38:36.200731Z",
     "iopub.status.busy": "2022-10-06T22:38:36.199633Z",
     "iopub.status.idle": "2022-10-06T22:38:36.215215Z",
     "shell.execute_reply": "2022-10-06T22:38:36.213505Z"
    },
    "papermill": {
     "duration": 0.035425,
     "end_time": "2022-10-06T22:38:36.218361",
     "exception": false,
     "start_time": "2022-10-06T22:38:36.182936",
     "status": "completed"
    },
    "tags": []
   },
   "outputs": [
    {
     "name": "stdout",
     "output_type": "stream",
     "text": [
      "              precision    recall  f1-score   support\n",
      "\n",
      "           0       0.63      0.44      0.52      1076\n",
      "           1       0.65      0.80      0.72      1400\n",
      "\n",
      "    accuracy                           0.64      2476\n",
      "   macro avg       0.64      0.62      0.62      2476\n",
      "weighted avg       0.64      0.64      0.63      2476\n",
      "\n"
     ]
    }
   ],
   "source": [
    "print(classification_report(yy_val ,y_hat))"
   ]
  },
  {
   "cell_type": "markdown",
   "id": "c7215117",
   "metadata": {
    "papermill": {
     "duration": 0.015485,
     "end_time": "2022-10-06T22:38:36.251034",
     "exception": false,
     "start_time": "2022-10-06T22:38:36.235549",
     "status": "completed"
    },
    "tags": []
   },
   "source": [
    "### On test data (for submission)"
   ]
  },
  {
   "cell_type": "code",
   "execution_count": 40,
   "id": "d66fb285",
   "metadata": {
    "execution": {
     "iopub.execute_input": "2022-10-06T22:38:36.285880Z",
     "iopub.status.busy": "2022-10-06T22:38:36.285432Z",
     "iopub.status.idle": "2022-10-06T22:38:36.500364Z",
     "shell.execute_reply": "2022-10-06T22:38:36.499504Z"
    },
    "papermill": {
     "duration": 0.235276,
     "end_time": "2022-10-06T22:38:36.502896",
     "exception": false,
     "start_time": "2022-10-06T22:38:36.267620",
     "status": "completed"
    },
    "tags": []
   },
   "outputs": [],
   "source": [
    "y_pred = pipeline_rdf.predict(test_data)"
   ]
  },
  {
   "cell_type": "code",
   "execution_count": 41,
   "id": "7135e2db",
   "metadata": {
    "execution": {
     "iopub.execute_input": "2022-10-06T22:38:36.536456Z",
     "iopub.status.busy": "2022-10-06T22:38:36.536058Z",
     "iopub.status.idle": "2022-10-06T22:38:36.542893Z",
     "shell.execute_reply": "2022-10-06T22:38:36.541685Z"
    },
    "papermill": {
     "duration": 0.026564,
     "end_time": "2022-10-06T22:38:36.545466",
     "exception": false,
     "start_time": "2022-10-06T22:38:36.518902",
     "status": "completed"
    },
    "tags": []
   },
   "outputs": [
    {
     "data": {
      "text/plain": [
       "array([1, 1, 0, ..., 0, 1, 1])"
      ]
     },
     "execution_count": 41,
     "metadata": {},
     "output_type": "execute_result"
    }
   ],
   "source": [
    "y_pred"
   ]
  },
  {
   "cell_type": "code",
   "execution_count": 42,
   "id": "2f17b5a1",
   "metadata": {
    "execution": {
     "iopub.execute_input": "2022-10-06T22:38:36.580319Z",
     "iopub.status.busy": "2022-10-06T22:38:36.579059Z",
     "iopub.status.idle": "2022-10-06T22:38:36.584712Z",
     "shell.execute_reply": "2022-10-06T22:38:36.583964Z"
    },
    "papermill": {
     "duration": 0.025315,
     "end_time": "2022-10-06T22:38:36.586773",
     "exception": false,
     "start_time": "2022-10-06T22:38:36.561458",
     "status": "completed"
    },
    "tags": []
   },
   "outputs": [],
   "source": [
    "submission = pd.DataFrame({'Offer Accepted': y_pred})"
   ]
  },
  {
   "cell_type": "code",
   "execution_count": 43,
   "id": "1cc2edfc",
   "metadata": {
    "execution": {
     "iopub.execute_input": "2022-10-06T22:38:36.620962Z",
     "iopub.status.busy": "2022-10-06T22:38:36.620254Z",
     "iopub.status.idle": "2022-10-06T22:38:36.626421Z",
     "shell.execute_reply": "2022-10-06T22:38:36.625651Z"
    },
    "papermill": {
     "duration": 0.025919,
     "end_time": "2022-10-06T22:38:36.628941",
     "exception": false,
     "start_time": "2022-10-06T22:38:36.603022",
     "status": "completed"
    },
    "tags": []
   },
   "outputs": [],
   "source": [
    "submission.reset_index(level=0, inplace=True)\n",
    "submission.rename(columns = {'index':'id'}, inplace = True)"
   ]
  },
  {
   "cell_type": "code",
   "execution_count": 44,
   "id": "be16c636",
   "metadata": {
    "execution": {
     "iopub.execute_input": "2022-10-06T22:38:36.663603Z",
     "iopub.status.busy": "2022-10-06T22:38:36.662911Z",
     "iopub.status.idle": "2022-10-06T22:38:36.668902Z",
     "shell.execute_reply": "2022-10-06T22:38:36.668155Z"
    },
    "papermill": {
     "duration": 0.026106,
     "end_time": "2022-10-06T22:38:36.671299",
     "exception": false,
     "start_time": "2022-10-06T22:38:36.645193",
     "status": "completed"
    },
    "tags": []
   },
   "outputs": [],
   "source": [
    "submission['Offer Accepted'].replace([0, 1], ['No', 'Yes'], inplace = True)"
   ]
  },
  {
   "cell_type": "code",
   "execution_count": 45,
   "id": "a123f13b",
   "metadata": {
    "execution": {
     "iopub.execute_input": "2022-10-06T22:38:36.705340Z",
     "iopub.status.busy": "2022-10-06T22:38:36.704561Z",
     "iopub.status.idle": "2022-10-06T22:38:36.714049Z",
     "shell.execute_reply": "2022-10-06T22:38:36.713241Z"
    },
    "papermill": {
     "duration": 0.028722,
     "end_time": "2022-10-06T22:38:36.716118",
     "exception": false,
     "start_time": "2022-10-06T22:38:36.687396",
     "status": "completed"
    },
    "tags": []
   },
   "outputs": [
    {
     "data": {
      "text/html": [
       "<div>\n",
       "<style scoped>\n",
       "    .dataframe tbody tr th:only-of-type {\n",
       "        vertical-align: middle;\n",
       "    }\n",
       "\n",
       "    .dataframe tbody tr th {\n",
       "        vertical-align: top;\n",
       "    }\n",
       "\n",
       "    .dataframe thead th {\n",
       "        text-align: right;\n",
       "    }\n",
       "</style>\n",
       "<table border=\"1\" class=\"dataframe\">\n",
       "  <thead>\n",
       "    <tr style=\"text-align: right;\">\n",
       "      <th></th>\n",
       "      <th>id</th>\n",
       "      <th>Offer Accepted</th>\n",
       "    </tr>\n",
       "  </thead>\n",
       "  <tbody>\n",
       "    <tr>\n",
       "      <th>0</th>\n",
       "      <td>0</td>\n",
       "      <td>Yes</td>\n",
       "    </tr>\n",
       "    <tr>\n",
       "      <th>1</th>\n",
       "      <td>1</td>\n",
       "      <td>Yes</td>\n",
       "    </tr>\n",
       "    <tr>\n",
       "      <th>2</th>\n",
       "      <td>2</td>\n",
       "      <td>No</td>\n",
       "    </tr>\n",
       "    <tr>\n",
       "      <th>3</th>\n",
       "      <td>3</td>\n",
       "      <td>No</td>\n",
       "    </tr>\n",
       "    <tr>\n",
       "      <th>4</th>\n",
       "      <td>4</td>\n",
       "      <td>Yes</td>\n",
       "    </tr>\n",
       "  </tbody>\n",
       "</table>\n",
       "</div>"
      ],
      "text/plain": [
       "   id Offer Accepted\n",
       "0   0            Yes\n",
       "1   1            Yes\n",
       "2   2             No\n",
       "3   3             No\n",
       "4   4            Yes"
      ]
     },
     "execution_count": 45,
     "metadata": {},
     "output_type": "execute_result"
    }
   ],
   "source": [
    "submission.head()"
   ]
  },
  {
   "cell_type": "code",
   "execution_count": 46,
   "id": "de9c3d52",
   "metadata": {
    "execution": {
     "iopub.execute_input": "2022-10-06T22:38:36.750072Z",
     "iopub.status.busy": "2022-10-06T22:38:36.749635Z",
     "iopub.status.idle": "2022-10-06T22:38:36.763726Z",
     "shell.execute_reply": "2022-10-06T22:38:36.762826Z"
    },
    "papermill": {
     "duration": 0.034031,
     "end_time": "2022-10-06T22:38:36.766347",
     "exception": false,
     "start_time": "2022-10-06T22:38:36.732316",
     "status": "completed"
    },
    "tags": []
   },
   "outputs": [],
   "source": [
    "submission.to_csv('submission.csv', index = False)"
   ]
  },
  {
   "cell_type": "code",
   "execution_count": null,
   "id": "7b473fd8",
   "metadata": {
    "papermill": {
     "duration": 0.015692,
     "end_time": "2022-10-06T22:38:36.798733",
     "exception": false,
     "start_time": "2022-10-06T22:38:36.783041",
     "status": "completed"
    },
    "tags": []
   },
   "outputs": [],
   "source": []
  }
 ],
 "metadata": {
  "kernelspec": {
   "display_name": "Python 3",
   "language": "python",
   "name": "python3"
  },
  "language_info": {
   "codemirror_mode": {
    "name": "ipython",
    "version": 3
   },
   "file_extension": ".py",
   "mimetype": "text/x-python",
   "name": "python",
   "nbconvert_exporter": "python",
   "pygments_lexer": "ipython3",
   "version": "3.7.12"
  },
  "papermill": {
   "default_parameters": {},
   "duration": 293.043487,
   "end_time": "2022-10-06T22:38:39.439014",
   "environment_variables": {},
   "exception": null,
   "input_path": "__notebook__.ipynb",
   "output_path": "__notebook__.ipynb",
   "parameters": {},
   "start_time": "2022-10-06T22:33:46.395527",
   "version": "2.3.4"
  }
 },
 "nbformat": 4,
 "nbformat_minor": 5
}
